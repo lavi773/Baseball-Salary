{
 "cells": [
  {
   "cell_type": "markdown",
   "id": "a7fb3bc7",
   "metadata": {},
   "source": [
    "# Project – Baseball Player Salary"
   ]
  },
  {
   "cell_type": "markdown",
   "id": "f2ec514a",
   "metadata": {},
   "source": [
    "## Import Libraries"
   ]
  },
  {
   "cell_type": "code",
   "execution_count": 1,
   "id": "27fb32f2",
   "metadata": {},
   "outputs": [],
   "source": [
    "import pandas as pd    \n",
    "import numpy as np\n",
    "import matplotlib.pyplot as plt\n",
    "from sklearn import model_selection\n",
    "from sklearn.linear_model import Ridge, RidgeCV, Lasso, LassoCV\n",
    "from sklearn.metrics import mean_squared_error      \n",
    "from sklearn.preprocessing import StandardScaler"
   ]
  },
  {
   "cell_type": "markdown",
   "id": "e885613b",
   "metadata": {},
   "source": [
    "## Load the Data"
   ]
  },
  {
   "cell_type": "code",
   "execution_count": 2,
   "id": "8b230077",
   "metadata": {},
   "outputs": [],
   "source": [
    " playerdf = pd.read_csv(r'C:\\Users\\ftt\\Downloads/Hitters.csv', index_col=0) "
   ]
  },
  {
   "cell_type": "code",
   "execution_count": 3,
   "id": "d52c6697",
   "metadata": {},
   "outputs": [
    {
     "data": {
      "text/html": [
       "<div>\n",
       "<style scoped>\n",
       "    .dataframe tbody tr th:only-of-type {\n",
       "        vertical-align: middle;\n",
       "    }\n",
       "\n",
       "    .dataframe tbody tr th {\n",
       "        vertical-align: top;\n",
       "    }\n",
       "\n",
       "    .dataframe thead th {\n",
       "        text-align: right;\n",
       "    }\n",
       "</style>\n",
       "<table border=\"1\" class=\"dataframe\">\n",
       "  <thead>\n",
       "    <tr style=\"text-align: right;\">\n",
       "      <th></th>\n",
       "      <th>Hits</th>\n",
       "      <th>HmRun</th>\n",
       "      <th>Runs</th>\n",
       "      <th>RBI</th>\n",
       "      <th>Walks</th>\n",
       "      <th>Years</th>\n",
       "      <th>CAtBat</th>\n",
       "      <th>CHits</th>\n",
       "      <th>CHmRun</th>\n",
       "      <th>CRuns</th>\n",
       "      <th>CRBI</th>\n",
       "      <th>CWalks</th>\n",
       "      <th>League</th>\n",
       "      <th>Division</th>\n",
       "      <th>PutOuts</th>\n",
       "      <th>Assists</th>\n",
       "      <th>Errors</th>\n",
       "      <th>Salary</th>\n",
       "      <th>NewLeague</th>\n",
       "    </tr>\n",
       "    <tr>\n",
       "      <th>AtBat</th>\n",
       "      <th></th>\n",
       "      <th></th>\n",
       "      <th></th>\n",
       "      <th></th>\n",
       "      <th></th>\n",
       "      <th></th>\n",
       "      <th></th>\n",
       "      <th></th>\n",
       "      <th></th>\n",
       "      <th></th>\n",
       "      <th></th>\n",
       "      <th></th>\n",
       "      <th></th>\n",
       "      <th></th>\n",
       "      <th></th>\n",
       "      <th></th>\n",
       "      <th></th>\n",
       "      <th></th>\n",
       "      <th></th>\n",
       "    </tr>\n",
       "  </thead>\n",
       "  <tbody>\n",
       "    <tr>\n",
       "      <th>293</th>\n",
       "      <td>66</td>\n",
       "      <td>1</td>\n",
       "      <td>30</td>\n",
       "      <td>29</td>\n",
       "      <td>14</td>\n",
       "      <td>1</td>\n",
       "      <td>293</td>\n",
       "      <td>66</td>\n",
       "      <td>1</td>\n",
       "      <td>30</td>\n",
       "      <td>29</td>\n",
       "      <td>14</td>\n",
       "      <td>A</td>\n",
       "      <td>E</td>\n",
       "      <td>446</td>\n",
       "      <td>33</td>\n",
       "      <td>20</td>\n",
       "      <td>NaN</td>\n",
       "      <td>A</td>\n",
       "    </tr>\n",
       "    <tr>\n",
       "      <th>315</th>\n",
       "      <td>81</td>\n",
       "      <td>7</td>\n",
       "      <td>24</td>\n",
       "      <td>38</td>\n",
       "      <td>39</td>\n",
       "      <td>14</td>\n",
       "      <td>3449</td>\n",
       "      <td>835</td>\n",
       "      <td>69</td>\n",
       "      <td>321</td>\n",
       "      <td>414</td>\n",
       "      <td>375</td>\n",
       "      <td>N</td>\n",
       "      <td>W</td>\n",
       "      <td>632</td>\n",
       "      <td>43</td>\n",
       "      <td>10</td>\n",
       "      <td>475.0</td>\n",
       "      <td>N</td>\n",
       "    </tr>\n",
       "    <tr>\n",
       "      <th>479</th>\n",
       "      <td>130</td>\n",
       "      <td>18</td>\n",
       "      <td>66</td>\n",
       "      <td>72</td>\n",
       "      <td>76</td>\n",
       "      <td>3</td>\n",
       "      <td>1624</td>\n",
       "      <td>457</td>\n",
       "      <td>63</td>\n",
       "      <td>224</td>\n",
       "      <td>266</td>\n",
       "      <td>263</td>\n",
       "      <td>A</td>\n",
       "      <td>W</td>\n",
       "      <td>880</td>\n",
       "      <td>82</td>\n",
       "      <td>14</td>\n",
       "      <td>480.0</td>\n",
       "      <td>A</td>\n",
       "    </tr>\n",
       "    <tr>\n",
       "      <th>496</th>\n",
       "      <td>141</td>\n",
       "      <td>20</td>\n",
       "      <td>65</td>\n",
       "      <td>78</td>\n",
       "      <td>37</td>\n",
       "      <td>11</td>\n",
       "      <td>5628</td>\n",
       "      <td>1575</td>\n",
       "      <td>225</td>\n",
       "      <td>828</td>\n",
       "      <td>838</td>\n",
       "      <td>354</td>\n",
       "      <td>N</td>\n",
       "      <td>E</td>\n",
       "      <td>200</td>\n",
       "      <td>11</td>\n",
       "      <td>3</td>\n",
       "      <td>500.0</td>\n",
       "      <td>N</td>\n",
       "    </tr>\n",
       "    <tr>\n",
       "      <th>321</th>\n",
       "      <td>87</td>\n",
       "      <td>10</td>\n",
       "      <td>39</td>\n",
       "      <td>42</td>\n",
       "      <td>30</td>\n",
       "      <td>2</td>\n",
       "      <td>396</td>\n",
       "      <td>101</td>\n",
       "      <td>12</td>\n",
       "      <td>48</td>\n",
       "      <td>46</td>\n",
       "      <td>33</td>\n",
       "      <td>N</td>\n",
       "      <td>E</td>\n",
       "      <td>805</td>\n",
       "      <td>40</td>\n",
       "      <td>4</td>\n",
       "      <td>91.5</td>\n",
       "      <td>N</td>\n",
       "    </tr>\n",
       "    <tr>\n",
       "      <th>...</th>\n",
       "      <td>...</td>\n",
       "      <td>...</td>\n",
       "      <td>...</td>\n",
       "      <td>...</td>\n",
       "      <td>...</td>\n",
       "      <td>...</td>\n",
       "      <td>...</td>\n",
       "      <td>...</td>\n",
       "      <td>...</td>\n",
       "      <td>...</td>\n",
       "      <td>...</td>\n",
       "      <td>...</td>\n",
       "      <td>...</td>\n",
       "      <td>...</td>\n",
       "      <td>...</td>\n",
       "      <td>...</td>\n",
       "      <td>...</td>\n",
       "      <td>...</td>\n",
       "      <td>...</td>\n",
       "    </tr>\n",
       "    <tr>\n",
       "      <th>497</th>\n",
       "      <td>127</td>\n",
       "      <td>7</td>\n",
       "      <td>65</td>\n",
       "      <td>48</td>\n",
       "      <td>37</td>\n",
       "      <td>5</td>\n",
       "      <td>2703</td>\n",
       "      <td>806</td>\n",
       "      <td>32</td>\n",
       "      <td>379</td>\n",
       "      <td>311</td>\n",
       "      <td>138</td>\n",
       "      <td>N</td>\n",
       "      <td>E</td>\n",
       "      <td>325</td>\n",
       "      <td>9</td>\n",
       "      <td>3</td>\n",
       "      <td>700.0</td>\n",
       "      <td>N</td>\n",
       "    </tr>\n",
       "    <tr>\n",
       "      <th>492</th>\n",
       "      <td>136</td>\n",
       "      <td>5</td>\n",
       "      <td>76</td>\n",
       "      <td>50</td>\n",
       "      <td>94</td>\n",
       "      <td>12</td>\n",
       "      <td>5511</td>\n",
       "      <td>1511</td>\n",
       "      <td>39</td>\n",
       "      <td>897</td>\n",
       "      <td>451</td>\n",
       "      <td>875</td>\n",
       "      <td>A</td>\n",
       "      <td>E</td>\n",
       "      <td>313</td>\n",
       "      <td>381</td>\n",
       "      <td>20</td>\n",
       "      <td>875.0</td>\n",
       "      <td>A</td>\n",
       "    </tr>\n",
       "    <tr>\n",
       "      <th>475</th>\n",
       "      <td>126</td>\n",
       "      <td>3</td>\n",
       "      <td>61</td>\n",
       "      <td>43</td>\n",
       "      <td>52</td>\n",
       "      <td>6</td>\n",
       "      <td>1700</td>\n",
       "      <td>433</td>\n",
       "      <td>7</td>\n",
       "      <td>217</td>\n",
       "      <td>93</td>\n",
       "      <td>146</td>\n",
       "      <td>A</td>\n",
       "      <td>W</td>\n",
       "      <td>37</td>\n",
       "      <td>113</td>\n",
       "      <td>7</td>\n",
       "      <td>385.0</td>\n",
       "      <td>A</td>\n",
       "    </tr>\n",
       "    <tr>\n",
       "      <th>573</th>\n",
       "      <td>144</td>\n",
       "      <td>9</td>\n",
       "      <td>85</td>\n",
       "      <td>60</td>\n",
       "      <td>78</td>\n",
       "      <td>8</td>\n",
       "      <td>3198</td>\n",
       "      <td>857</td>\n",
       "      <td>97</td>\n",
       "      <td>470</td>\n",
       "      <td>420</td>\n",
       "      <td>332</td>\n",
       "      <td>A</td>\n",
       "      <td>E</td>\n",
       "      <td>1314</td>\n",
       "      <td>131</td>\n",
       "      <td>12</td>\n",
       "      <td>960.0</td>\n",
       "      <td>A</td>\n",
       "    </tr>\n",
       "    <tr>\n",
       "      <th>631</th>\n",
       "      <td>170</td>\n",
       "      <td>9</td>\n",
       "      <td>77</td>\n",
       "      <td>44</td>\n",
       "      <td>31</td>\n",
       "      <td>11</td>\n",
       "      <td>4908</td>\n",
       "      <td>1457</td>\n",
       "      <td>30</td>\n",
       "      <td>775</td>\n",
       "      <td>357</td>\n",
       "      <td>249</td>\n",
       "      <td>A</td>\n",
       "      <td>W</td>\n",
       "      <td>408</td>\n",
       "      <td>4</td>\n",
       "      <td>3</td>\n",
       "      <td>1000.0</td>\n",
       "      <td>A</td>\n",
       "    </tr>\n",
       "  </tbody>\n",
       "</table>\n",
       "<p>322 rows × 19 columns</p>\n",
       "</div>"
      ],
      "text/plain": [
       "       Hits  HmRun  Runs  RBI  Walks  Years  CAtBat  CHits  CHmRun  CRuns  \\\n",
       "AtBat                                                                       \n",
       "293      66      1    30   29     14      1     293     66       1     30   \n",
       "315      81      7    24   38     39     14    3449    835      69    321   \n",
       "479     130     18    66   72     76      3    1624    457      63    224   \n",
       "496     141     20    65   78     37     11    5628   1575     225    828   \n",
       "321      87     10    39   42     30      2     396    101      12     48   \n",
       "...     ...    ...   ...  ...    ...    ...     ...    ...     ...    ...   \n",
       "497     127      7    65   48     37      5    2703    806      32    379   \n",
       "492     136      5    76   50     94     12    5511   1511      39    897   \n",
       "475     126      3    61   43     52      6    1700    433       7    217   \n",
       "573     144      9    85   60     78      8    3198    857      97    470   \n",
       "631     170      9    77   44     31     11    4908   1457      30    775   \n",
       "\n",
       "       CRBI  CWalks League Division  PutOuts  Assists  Errors  Salary  \\\n",
       "AtBat                                                                   \n",
       "293      29      14      A        E      446       33      20     NaN   \n",
       "315     414     375      N        W      632       43      10   475.0   \n",
       "479     266     263      A        W      880       82      14   480.0   \n",
       "496     838     354      N        E      200       11       3   500.0   \n",
       "321      46      33      N        E      805       40       4    91.5   \n",
       "...     ...     ...    ...      ...      ...      ...     ...     ...   \n",
       "497     311     138      N        E      325        9       3   700.0   \n",
       "492     451     875      A        E      313      381      20   875.0   \n",
       "475      93     146      A        W       37      113       7   385.0   \n",
       "573     420     332      A        E     1314      131      12   960.0   \n",
       "631     357     249      A        W      408        4       3  1000.0   \n",
       "\n",
       "      NewLeague  \n",
       "AtBat            \n",
       "293           A  \n",
       "315           N  \n",
       "479           A  \n",
       "496           N  \n",
       "321           N  \n",
       "...         ...  \n",
       "497           N  \n",
       "492           A  \n",
       "475           A  \n",
       "573           A  \n",
       "631           A  \n",
       "\n",
       "[322 rows x 19 columns]"
      ]
     },
     "execution_count": 3,
     "metadata": {},
     "output_type": "execute_result"
    }
   ],
   "source": [
    "playerdf"
   ]
  },
  {
   "cell_type": "code",
   "execution_count": 4,
   "id": "c4b5849f",
   "metadata": {},
   "outputs": [
    {
     "data": {
      "text/html": [
       "<div>\n",
       "<style scoped>\n",
       "    .dataframe tbody tr th:only-of-type {\n",
       "        vertical-align: middle;\n",
       "    }\n",
       "\n",
       "    .dataframe tbody tr th {\n",
       "        vertical-align: top;\n",
       "    }\n",
       "\n",
       "    .dataframe thead th {\n",
       "        text-align: right;\n",
       "    }\n",
       "</style>\n",
       "<table border=\"1\" class=\"dataframe\">\n",
       "  <thead>\n",
       "    <tr style=\"text-align: right;\">\n",
       "      <th></th>\n",
       "      <th>Hits</th>\n",
       "      <th>HmRun</th>\n",
       "      <th>Runs</th>\n",
       "      <th>RBI</th>\n",
       "      <th>Walks</th>\n",
       "      <th>Years</th>\n",
       "      <th>CAtBat</th>\n",
       "      <th>CHits</th>\n",
       "      <th>CHmRun</th>\n",
       "      <th>CRuns</th>\n",
       "      <th>CRBI</th>\n",
       "      <th>CWalks</th>\n",
       "      <th>League</th>\n",
       "      <th>Division</th>\n",
       "      <th>PutOuts</th>\n",
       "      <th>Assists</th>\n",
       "      <th>Errors</th>\n",
       "      <th>Salary</th>\n",
       "      <th>NewLeague</th>\n",
       "    </tr>\n",
       "    <tr>\n",
       "      <th>AtBat</th>\n",
       "      <th></th>\n",
       "      <th></th>\n",
       "      <th></th>\n",
       "      <th></th>\n",
       "      <th></th>\n",
       "      <th></th>\n",
       "      <th></th>\n",
       "      <th></th>\n",
       "      <th></th>\n",
       "      <th></th>\n",
       "      <th></th>\n",
       "      <th></th>\n",
       "      <th></th>\n",
       "      <th></th>\n",
       "      <th></th>\n",
       "      <th></th>\n",
       "      <th></th>\n",
       "      <th></th>\n",
       "      <th></th>\n",
       "    </tr>\n",
       "  </thead>\n",
       "  <tbody>\n",
       "    <tr>\n",
       "      <th>293</th>\n",
       "      <td>66</td>\n",
       "      <td>1</td>\n",
       "      <td>30</td>\n",
       "      <td>29</td>\n",
       "      <td>14</td>\n",
       "      <td>1</td>\n",
       "      <td>293</td>\n",
       "      <td>66</td>\n",
       "      <td>1</td>\n",
       "      <td>30</td>\n",
       "      <td>29</td>\n",
       "      <td>14</td>\n",
       "      <td>A</td>\n",
       "      <td>E</td>\n",
       "      <td>446</td>\n",
       "      <td>33</td>\n",
       "      <td>20</td>\n",
       "      <td>NaN</td>\n",
       "      <td>A</td>\n",
       "    </tr>\n",
       "    <tr>\n",
       "      <th>315</th>\n",
       "      <td>81</td>\n",
       "      <td>7</td>\n",
       "      <td>24</td>\n",
       "      <td>38</td>\n",
       "      <td>39</td>\n",
       "      <td>14</td>\n",
       "      <td>3449</td>\n",
       "      <td>835</td>\n",
       "      <td>69</td>\n",
       "      <td>321</td>\n",
       "      <td>414</td>\n",
       "      <td>375</td>\n",
       "      <td>N</td>\n",
       "      <td>W</td>\n",
       "      <td>632</td>\n",
       "      <td>43</td>\n",
       "      <td>10</td>\n",
       "      <td>475.0</td>\n",
       "      <td>N</td>\n",
       "    </tr>\n",
       "    <tr>\n",
       "      <th>479</th>\n",
       "      <td>130</td>\n",
       "      <td>18</td>\n",
       "      <td>66</td>\n",
       "      <td>72</td>\n",
       "      <td>76</td>\n",
       "      <td>3</td>\n",
       "      <td>1624</td>\n",
       "      <td>457</td>\n",
       "      <td>63</td>\n",
       "      <td>224</td>\n",
       "      <td>266</td>\n",
       "      <td>263</td>\n",
       "      <td>A</td>\n",
       "      <td>W</td>\n",
       "      <td>880</td>\n",
       "      <td>82</td>\n",
       "      <td>14</td>\n",
       "      <td>480.0</td>\n",
       "      <td>A</td>\n",
       "    </tr>\n",
       "    <tr>\n",
       "      <th>496</th>\n",
       "      <td>141</td>\n",
       "      <td>20</td>\n",
       "      <td>65</td>\n",
       "      <td>78</td>\n",
       "      <td>37</td>\n",
       "      <td>11</td>\n",
       "      <td>5628</td>\n",
       "      <td>1575</td>\n",
       "      <td>225</td>\n",
       "      <td>828</td>\n",
       "      <td>838</td>\n",
       "      <td>354</td>\n",
       "      <td>N</td>\n",
       "      <td>E</td>\n",
       "      <td>200</td>\n",
       "      <td>11</td>\n",
       "      <td>3</td>\n",
       "      <td>500.0</td>\n",
       "      <td>N</td>\n",
       "    </tr>\n",
       "    <tr>\n",
       "      <th>321</th>\n",
       "      <td>87</td>\n",
       "      <td>10</td>\n",
       "      <td>39</td>\n",
       "      <td>42</td>\n",
       "      <td>30</td>\n",
       "      <td>2</td>\n",
       "      <td>396</td>\n",
       "      <td>101</td>\n",
       "      <td>12</td>\n",
       "      <td>48</td>\n",
       "      <td>46</td>\n",
       "      <td>33</td>\n",
       "      <td>N</td>\n",
       "      <td>E</td>\n",
       "      <td>805</td>\n",
       "      <td>40</td>\n",
       "      <td>4</td>\n",
       "      <td>91.5</td>\n",
       "      <td>N</td>\n",
       "    </tr>\n",
       "  </tbody>\n",
       "</table>\n",
       "</div>"
      ],
      "text/plain": [
       "       Hits  HmRun  Runs  RBI  Walks  Years  CAtBat  CHits  CHmRun  CRuns  \\\n",
       "AtBat                                                                       \n",
       "293      66      1    30   29     14      1     293     66       1     30   \n",
       "315      81      7    24   38     39     14    3449    835      69    321   \n",
       "479     130     18    66   72     76      3    1624    457      63    224   \n",
       "496     141     20    65   78     37     11    5628   1575     225    828   \n",
       "321      87     10    39   42     30      2     396    101      12     48   \n",
       "\n",
       "       CRBI  CWalks League Division  PutOuts  Assists  Errors  Salary  \\\n",
       "AtBat                                                                   \n",
       "293      29      14      A        E      446       33      20     NaN   \n",
       "315     414     375      N        W      632       43      10   475.0   \n",
       "479     266     263      A        W      880       82      14   480.0   \n",
       "496     838     354      N        E      200       11       3   500.0   \n",
       "321      46      33      N        E      805       40       4    91.5   \n",
       "\n",
       "      NewLeague  \n",
       "AtBat            \n",
       "293           A  \n",
       "315           N  \n",
       "479           A  \n",
       "496           N  \n",
       "321           N  "
      ]
     },
     "execution_count": 4,
     "metadata": {},
     "output_type": "execute_result"
    }
   ],
   "source": [
    " playerdf.head() "
   ]
  },
  {
   "cell_type": "markdown",
   "id": "80e91d78",
   "metadata": {},
   "source": [
    "## Dimension of the Data"
   ]
  },
  {
   "cell_type": "code",
   "execution_count": 5,
   "id": "ee87597f",
   "metadata": {},
   "outputs": [
    {
     "data": {
      "text/plain": [
       "(322, 19)"
      ]
     },
     "execution_count": 5,
     "metadata": {},
     "output_type": "execute_result"
    }
   ],
   "source": [
    "playerdf.shape "
   ]
  },
  {
   "cell_type": "markdown",
   "id": "02a5377e",
   "metadata": {},
   "source": [
    "## Data Type"
   ]
  },
  {
   "cell_type": "code",
   "execution_count": 6,
   "id": "cb8e52b7",
   "metadata": {},
   "outputs": [
    {
     "name": "stdout",
     "output_type": "stream",
     "text": [
      "<class 'pandas.core.frame.DataFrame'>\n",
      "Index: 322 entries, 293 to 631\n",
      "Data columns (total 19 columns):\n",
      " #   Column     Non-Null Count  Dtype  \n",
      "---  ------     --------------  -----  \n",
      " 0   Hits       322 non-null    int64  \n",
      " 1   HmRun      322 non-null    int64  \n",
      " 2   Runs       322 non-null    int64  \n",
      " 3   RBI        322 non-null    int64  \n",
      " 4   Walks      322 non-null    int64  \n",
      " 5   Years      322 non-null    int64  \n",
      " 6   CAtBat     322 non-null    int64  \n",
      " 7   CHits      322 non-null    int64  \n",
      " 8   CHmRun     322 non-null    int64  \n",
      " 9   CRuns      322 non-null    int64  \n",
      " 10  CRBI       322 non-null    int64  \n",
      " 11  CWalks     322 non-null    int64  \n",
      " 12  League     322 non-null    object \n",
      " 13  Division   322 non-null    object \n",
      " 14  PutOuts    322 non-null    int64  \n",
      " 15  Assists    322 non-null    int64  \n",
      " 16  Errors     322 non-null    int64  \n",
      " 17  Salary     263 non-null    float64\n",
      " 18  NewLeague  322 non-null    object \n",
      "dtypes: float64(1), int64(15), object(3)\n",
      "memory usage: 50.3+ KB\n"
     ]
    }
   ],
   "source": [
    "playerdf.info()"
   ]
  },
  {
   "cell_type": "markdown",
   "id": "c4ed72aa",
   "metadata": {},
   "source": [
    "## Null Values"
   ]
  },
  {
   "cell_type": "code",
   "execution_count": 7,
   "id": "dd34cffb",
   "metadata": {},
   "outputs": [
    {
     "data": {
      "text/plain": [
       "Hits          0\n",
       "HmRun         0\n",
       "Runs          0\n",
       "RBI           0\n",
       "Walks         0\n",
       "Years         0\n",
       "CAtBat        0\n",
       "CHits         0\n",
       "CHmRun        0\n",
       "CRuns         0\n",
       "CRBI          0\n",
       "CWalks        0\n",
       "League        0\n",
       "Division      0\n",
       "PutOuts       0\n",
       "Assists       0\n",
       "Errors        0\n",
       "Salary       59\n",
       "NewLeague     0\n",
       "dtype: int64"
      ]
     },
     "execution_count": 7,
     "metadata": {},
     "output_type": "execute_result"
    }
   ],
   "source": [
    "playerdf.isnull().sum()"
   ]
  },
  {
   "cell_type": "markdown",
   "id": "3c52dde0",
   "metadata": {},
   "source": [
    "## Drop Null Values"
   ]
  },
  {
   "cell_type": "code",
   "execution_count": 8,
   "id": "277b5427",
   "metadata": {},
   "outputs": [],
   "source": [
    "playerdf.dropna(inplace=True)"
   ]
  },
  {
   "cell_type": "code",
   "execution_count": 9,
   "id": "f6afa8b8",
   "metadata": {},
   "outputs": [
    {
     "data": {
      "text/plain": [
       "(263, 19)"
      ]
     },
     "execution_count": 9,
     "metadata": {},
     "output_type": "execute_result"
    }
   ],
   "source": [
    " playerdf.shape "
   ]
  },
  {
   "cell_type": "markdown",
   "id": "ffe6a74c",
   "metadata": {},
   "source": [
    "## Statistical Analysis"
   ]
  },
  {
   "cell_type": "code",
   "execution_count": 10,
   "id": "1e47dafa",
   "metadata": {},
   "outputs": [],
   "source": [
    "pd.set_option('display.precision', 2)"
   ]
  },
  {
   "cell_type": "code",
   "execution_count": 11,
   "id": "7ccd8de1",
   "metadata": {},
   "outputs": [
    {
     "data": {
      "text/html": [
       "<div>\n",
       "<style scoped>\n",
       "    .dataframe tbody tr th:only-of-type {\n",
       "        vertical-align: middle;\n",
       "    }\n",
       "\n",
       "    .dataframe tbody tr th {\n",
       "        vertical-align: top;\n",
       "    }\n",
       "\n",
       "    .dataframe thead th {\n",
       "        text-align: right;\n",
       "    }\n",
       "</style>\n",
       "<table border=\"1\" class=\"dataframe\">\n",
       "  <thead>\n",
       "    <tr style=\"text-align: right;\">\n",
       "      <th></th>\n",
       "      <th>Hits</th>\n",
       "      <th>HmRun</th>\n",
       "      <th>Runs</th>\n",
       "      <th>RBI</th>\n",
       "      <th>Walks</th>\n",
       "      <th>Years</th>\n",
       "      <th>CAtBat</th>\n",
       "      <th>CHits</th>\n",
       "      <th>CHmRun</th>\n",
       "      <th>CRuns</th>\n",
       "      <th>CRBI</th>\n",
       "      <th>CWalks</th>\n",
       "      <th>PutOuts</th>\n",
       "      <th>Assists</th>\n",
       "      <th>Errors</th>\n",
       "      <th>Salary</th>\n",
       "    </tr>\n",
       "  </thead>\n",
       "  <tbody>\n",
       "    <tr>\n",
       "      <th>count</th>\n",
       "      <td>263.00</td>\n",
       "      <td>263.00</td>\n",
       "      <td>263.00</td>\n",
       "      <td>263.00</td>\n",
       "      <td>263.00</td>\n",
       "      <td>263.00</td>\n",
       "      <td>263.00</td>\n",
       "      <td>263.00</td>\n",
       "      <td>263.00</td>\n",
       "      <td>263.00</td>\n",
       "      <td>263.00</td>\n",
       "      <td>263.00</td>\n",
       "      <td>263.00</td>\n",
       "      <td>263.00</td>\n",
       "      <td>263.00</td>\n",
       "      <td>263.00</td>\n",
       "    </tr>\n",
       "    <tr>\n",
       "      <th>mean</th>\n",
       "      <td>107.83</td>\n",
       "      <td>11.62</td>\n",
       "      <td>54.75</td>\n",
       "      <td>51.49</td>\n",
       "      <td>41.11</td>\n",
       "      <td>7.31</td>\n",
       "      <td>2657.54</td>\n",
       "      <td>722.19</td>\n",
       "      <td>69.24</td>\n",
       "      <td>361.22</td>\n",
       "      <td>330.42</td>\n",
       "      <td>260.27</td>\n",
       "      <td>290.71</td>\n",
       "      <td>118.76</td>\n",
       "      <td>8.59</td>\n",
       "      <td>535.93</td>\n",
       "    </tr>\n",
       "    <tr>\n",
       "      <th>std</th>\n",
       "      <td>45.13</td>\n",
       "      <td>8.76</td>\n",
       "      <td>25.54</td>\n",
       "      <td>25.88</td>\n",
       "      <td>21.72</td>\n",
       "      <td>4.79</td>\n",
       "      <td>2286.58</td>\n",
       "      <td>648.20</td>\n",
       "      <td>82.20</td>\n",
       "      <td>331.20</td>\n",
       "      <td>323.37</td>\n",
       "      <td>264.06</td>\n",
       "      <td>279.93</td>\n",
       "      <td>145.08</td>\n",
       "      <td>6.61</td>\n",
       "      <td>451.12</td>\n",
       "    </tr>\n",
       "    <tr>\n",
       "      <th>min</th>\n",
       "      <td>1.00</td>\n",
       "      <td>0.00</td>\n",
       "      <td>0.00</td>\n",
       "      <td>0.00</td>\n",
       "      <td>0.00</td>\n",
       "      <td>1.00</td>\n",
       "      <td>19.00</td>\n",
       "      <td>4.00</td>\n",
       "      <td>0.00</td>\n",
       "      <td>2.00</td>\n",
       "      <td>3.00</td>\n",
       "      <td>1.00</td>\n",
       "      <td>0.00</td>\n",
       "      <td>0.00</td>\n",
       "      <td>0.00</td>\n",
       "      <td>67.50</td>\n",
       "    </tr>\n",
       "    <tr>\n",
       "      <th>25%</th>\n",
       "      <td>71.50</td>\n",
       "      <td>5.00</td>\n",
       "      <td>33.50</td>\n",
       "      <td>30.00</td>\n",
       "      <td>23.00</td>\n",
       "      <td>4.00</td>\n",
       "      <td>842.50</td>\n",
       "      <td>212.00</td>\n",
       "      <td>15.00</td>\n",
       "      <td>105.50</td>\n",
       "      <td>95.00</td>\n",
       "      <td>71.00</td>\n",
       "      <td>113.50</td>\n",
       "      <td>8.00</td>\n",
       "      <td>3.00</td>\n",
       "      <td>190.00</td>\n",
       "    </tr>\n",
       "    <tr>\n",
       "      <th>50%</th>\n",
       "      <td>103.00</td>\n",
       "      <td>9.00</td>\n",
       "      <td>52.00</td>\n",
       "      <td>47.00</td>\n",
       "      <td>37.00</td>\n",
       "      <td>6.00</td>\n",
       "      <td>1931.00</td>\n",
       "      <td>516.00</td>\n",
       "      <td>40.00</td>\n",
       "      <td>250.00</td>\n",
       "      <td>230.00</td>\n",
       "      <td>174.00</td>\n",
       "      <td>224.00</td>\n",
       "      <td>45.00</td>\n",
       "      <td>7.00</td>\n",
       "      <td>425.00</td>\n",
       "    </tr>\n",
       "    <tr>\n",
       "      <th>75%</th>\n",
       "      <td>141.50</td>\n",
       "      <td>18.00</td>\n",
       "      <td>73.00</td>\n",
       "      <td>71.00</td>\n",
       "      <td>57.00</td>\n",
       "      <td>10.00</td>\n",
       "      <td>3890.50</td>\n",
       "      <td>1054.00</td>\n",
       "      <td>92.50</td>\n",
       "      <td>497.50</td>\n",
       "      <td>424.50</td>\n",
       "      <td>328.50</td>\n",
       "      <td>322.50</td>\n",
       "      <td>192.00</td>\n",
       "      <td>13.00</td>\n",
       "      <td>750.00</td>\n",
       "    </tr>\n",
       "    <tr>\n",
       "      <th>max</th>\n",
       "      <td>238.00</td>\n",
       "      <td>40.00</td>\n",
       "      <td>130.00</td>\n",
       "      <td>121.00</td>\n",
       "      <td>105.00</td>\n",
       "      <td>24.00</td>\n",
       "      <td>14053.00</td>\n",
       "      <td>4256.00</td>\n",
       "      <td>548.00</td>\n",
       "      <td>2165.00</td>\n",
       "      <td>1659.00</td>\n",
       "      <td>1566.00</td>\n",
       "      <td>1377.00</td>\n",
       "      <td>492.00</td>\n",
       "      <td>32.00</td>\n",
       "      <td>2460.00</td>\n",
       "    </tr>\n",
       "  </tbody>\n",
       "</table>\n",
       "</div>"
      ],
      "text/plain": [
       "         Hits   HmRun    Runs     RBI   Walks   Years    CAtBat    CHits  \\\n",
       "count  263.00  263.00  263.00  263.00  263.00  263.00    263.00   263.00   \n",
       "mean   107.83   11.62   54.75   51.49   41.11    7.31   2657.54   722.19   \n",
       "std     45.13    8.76   25.54   25.88   21.72    4.79   2286.58   648.20   \n",
       "min      1.00    0.00    0.00    0.00    0.00    1.00     19.00     4.00   \n",
       "25%     71.50    5.00   33.50   30.00   23.00    4.00    842.50   212.00   \n",
       "50%    103.00    9.00   52.00   47.00   37.00    6.00   1931.00   516.00   \n",
       "75%    141.50   18.00   73.00   71.00   57.00   10.00   3890.50  1054.00   \n",
       "max    238.00   40.00  130.00  121.00  105.00   24.00  14053.00  4256.00   \n",
       "\n",
       "       CHmRun    CRuns     CRBI   CWalks  PutOuts  Assists  Errors   Salary  \n",
       "count  263.00   263.00   263.00   263.00   263.00   263.00  263.00   263.00  \n",
       "mean    69.24   361.22   330.42   260.27   290.71   118.76    8.59   535.93  \n",
       "std     82.20   331.20   323.37   264.06   279.93   145.08    6.61   451.12  \n",
       "min      0.00     2.00     3.00     1.00     0.00     0.00    0.00    67.50  \n",
       "25%     15.00   105.50    95.00    71.00   113.50     8.00    3.00   190.00  \n",
       "50%     40.00   250.00   230.00   174.00   224.00    45.00    7.00   425.00  \n",
       "75%     92.50   497.50   424.50   328.50   322.50   192.00   13.00   750.00  \n",
       "max    548.00  2165.00  1659.00  1566.00  1377.00   492.00   32.00  2460.00  "
      ]
     },
     "execution_count": 11,
     "metadata": {},
     "output_type": "execute_result"
    }
   ],
   "source": [
    " playerdf.describe()"
   ]
  },
  {
   "cell_type": "markdown",
   "id": "cec4c781",
   "metadata": {},
   "source": [
    "## Categorical Variable Analysis"
   ]
  },
  {
   "cell_type": "code",
   "execution_count": 12,
   "id": "ca285379",
   "metadata": {},
   "outputs": [
    {
     "data": {
      "text/plain": [
       "League\n",
       "A    139\n",
       "N    124\n",
       "Name: count, dtype: int64"
      ]
     },
     "execution_count": 12,
     "metadata": {},
     "output_type": "execute_result"
    }
   ],
   "source": [
    " playerdf.League.value_counts()"
   ]
  },
  {
   "cell_type": "code",
   "execution_count": 13,
   "id": "0009067e",
   "metadata": {},
   "outputs": [
    {
     "data": {
      "text/plain": [
       "Division\n",
       "W    134\n",
       "E    129\n",
       "Name: count, dtype: int64"
      ]
     },
     "execution_count": 13,
     "metadata": {},
     "output_type": "execute_result"
    }
   ],
   "source": [
    " playerdf.Division.value_counts()"
   ]
  },
  {
   "cell_type": "code",
   "execution_count": 14,
   "id": "f6b087ec",
   "metadata": {},
   "outputs": [
    {
     "data": {
      "text/plain": [
       "NewLeague\n",
       "A    141\n",
       "N    122\n",
       "Name: count, dtype: int64"
      ]
     },
     "execution_count": 14,
     "metadata": {},
     "output_type": "execute_result"
    }
   ],
   "source": [
    "playerdf.NewLeague.value_counts()"
   ]
  },
  {
   "cell_type": "markdown",
   "id": "64918f63",
   "metadata": {},
   "source": [
    "## Encode Categorical Variables"
   ]
  },
  {
   "cell_type": "code",
   "execution_count": 15,
   "id": "8a8f8410",
   "metadata": {},
   "outputs": [],
   "source": [
    " dummyCol = pd.get_dummies(playerdf[['League', 'Division', 'NewLeague']])"
   ]
  },
  {
   "cell_type": "code",
   "execution_count": 16,
   "id": "8ecc7383",
   "metadata": {},
   "outputs": [
    {
     "data": {
      "text/html": [
       "<div>\n",
       "<style scoped>\n",
       "    .dataframe tbody tr th:only-of-type {\n",
       "        vertical-align: middle;\n",
       "    }\n",
       "\n",
       "    .dataframe tbody tr th {\n",
       "        vertical-align: top;\n",
       "    }\n",
       "\n",
       "    .dataframe thead th {\n",
       "        text-align: right;\n",
       "    }\n",
       "</style>\n",
       "<table border=\"1\" class=\"dataframe\">\n",
       "  <thead>\n",
       "    <tr style=\"text-align: right;\">\n",
       "      <th></th>\n",
       "      <th>League_A</th>\n",
       "      <th>League_N</th>\n",
       "      <th>Division_E</th>\n",
       "      <th>Division_W</th>\n",
       "      <th>NewLeague_A</th>\n",
       "      <th>NewLeague_N</th>\n",
       "    </tr>\n",
       "    <tr>\n",
       "      <th>AtBat</th>\n",
       "      <th></th>\n",
       "      <th></th>\n",
       "      <th></th>\n",
       "      <th></th>\n",
       "      <th></th>\n",
       "      <th></th>\n",
       "    </tr>\n",
       "  </thead>\n",
       "  <tbody>\n",
       "    <tr>\n",
       "      <th>315</th>\n",
       "      <td>False</td>\n",
       "      <td>True</td>\n",
       "      <td>False</td>\n",
       "      <td>True</td>\n",
       "      <td>False</td>\n",
       "      <td>True</td>\n",
       "    </tr>\n",
       "    <tr>\n",
       "      <th>479</th>\n",
       "      <td>True</td>\n",
       "      <td>False</td>\n",
       "      <td>False</td>\n",
       "      <td>True</td>\n",
       "      <td>True</td>\n",
       "      <td>False</td>\n",
       "    </tr>\n",
       "    <tr>\n",
       "      <th>496</th>\n",
       "      <td>False</td>\n",
       "      <td>True</td>\n",
       "      <td>True</td>\n",
       "      <td>False</td>\n",
       "      <td>False</td>\n",
       "      <td>True</td>\n",
       "    </tr>\n",
       "  </tbody>\n",
       "</table>\n",
       "</div>"
      ],
      "text/plain": [
       "       League_A  League_N  Division_E  Division_W  NewLeague_A  NewLeague_N\n",
       "AtBat                                                                      \n",
       "315       False      True       False        True        False         True\n",
       "479        True     False       False        True         True        False\n",
       "496       False      True        True       False        False         True"
      ]
     },
     "execution_count": 16,
     "metadata": {},
     "output_type": "execute_result"
    }
   ],
   "source": [
    " dummyCol.head(3)"
   ]
  },
  {
   "cell_type": "code",
   "execution_count": 17,
   "id": "9c51f996",
   "metadata": {},
   "outputs": [
    {
     "name": "stdout",
     "output_type": "stream",
     "text": [
      "<class 'pandas.core.frame.DataFrame'>\n",
      "Index: 263 entries, 315 to 631\n",
      "Data columns (total 6 columns):\n",
      " #   Column       Non-Null Count  Dtype\n",
      "---  ------       --------------  -----\n",
      " 0   League_A     263 non-null    bool \n",
      " 1   League_N     263 non-null    bool \n",
      " 2   Division_E   263 non-null    bool \n",
      " 3   Division_W   263 non-null    bool \n",
      " 4   NewLeague_A  263 non-null    bool \n",
      " 5   NewLeague_N  263 non-null    bool \n",
      "dtypes: bool(6)\n",
      "memory usage: 3.6 KB\n"
     ]
    }
   ],
   "source": [
    "dummyCol.info() "
   ]
  },
  {
   "cell_type": "markdown",
   "id": "009fc7d5",
   "metadata": {},
   "source": [
    "# Prepare Input and Output Variables\n"
   ]
  },
  {
   "cell_type": "markdown",
   "id": "e4341ae9",
   "metadata": {},
   "source": [
    "## Prepare Input Variables (X)"
   ]
  },
  {
   "cell_type": "code",
   "execution_count": 18,
   "id": "5f405b35",
   "metadata": {},
   "outputs": [],
   "source": [
    "XTemp = playerdf.drop(['Salary', 'League', 'Division', 'NewLeague'], axis=1)"
   ]
  },
  {
   "cell_type": "code",
   "execution_count": 22,
   "id": "bc281a6f",
   "metadata": {},
   "outputs": [],
   "source": [
    " X = pd.concat([XTemp, dummyCol[['League_N', 'Division_W', 'NewLeague_N']]], axis=1)"
   ]
  },
  {
   "cell_type": "code",
   "execution_count": 23,
   "id": "b9302183",
   "metadata": {},
   "outputs": [
    {
     "name": "stdout",
     "output_type": "stream",
     "text": [
      "<class 'pandas.core.frame.DataFrame'>\n",
      "Index: 263 entries, 315 to 631\n",
      "Data columns (total 18 columns):\n",
      " #   Column       Non-Null Count  Dtype\n",
      "---  ------       --------------  -----\n",
      " 0   Hits         263 non-null    int64\n",
      " 1   HmRun        263 non-null    int64\n",
      " 2   Runs         263 non-null    int64\n",
      " 3   RBI          263 non-null    int64\n",
      " 4   Walks        263 non-null    int64\n",
      " 5   Years        263 non-null    int64\n",
      " 6   CAtBat       263 non-null    int64\n",
      " 7   CHits        263 non-null    int64\n",
      " 8   CHmRun       263 non-null    int64\n",
      " 9   CRuns        263 non-null    int64\n",
      " 10  CRBI         263 non-null    int64\n",
      " 11  CWalks       263 non-null    int64\n",
      " 12  PutOuts      263 non-null    int64\n",
      " 13  Assists      263 non-null    int64\n",
      " 14  Errors       263 non-null    int64\n",
      " 15  League_N     263 non-null    bool \n",
      " 16  Division_W   263 non-null    bool \n",
      " 17  NewLeague_N  263 non-null    bool \n",
      "dtypes: bool(3), int64(15)\n",
      "memory usage: 33.6 KB\n"
     ]
    }
   ],
   "source": [
    "X.info() "
   ]
  },
  {
   "cell_type": "markdown",
   "id": "91eb09c7",
   "metadata": {},
   "source": [
    "## Prepare Output Variables (Y)"
   ]
  },
  {
   "cell_type": "code",
   "execution_count": 24,
   "id": "589af5a2",
   "metadata": {},
   "outputs": [],
   "source": [
    "y = playerdf.Salary"
   ]
  },
  {
   "cell_type": "code",
   "execution_count": 25,
   "id": "7362b692",
   "metadata": {},
   "outputs": [
    {
     "data": {
      "text/plain": [
       "AtBat\n",
       "315    475.0\n",
       "479    480.0\n",
       "496    500.0\n",
       "321     91.5\n",
       "594    750.0\n",
       "Name: Salary, dtype: float64"
      ]
     },
     "execution_count": 25,
     "metadata": {},
     "output_type": "execute_result"
    }
   ],
   "source": [
    "y.head()"
   ]
  },
  {
   "cell_type": "markdown",
   "id": "7ba64176",
   "metadata": {},
   "source": [
    "# Ridge Regression"
   ]
  },
  {
   "cell_type": "code",
   "execution_count": 26,
   "id": "5c830ddc",
   "metadata": {},
   "outputs": [],
   "source": [
    "alphas = 10**np.linspace(10,-2,100)*0.00001"
   ]
  },
  {
   "cell_type": "code",
   "execution_count": 27,
   "id": "929e1f00",
   "metadata": {},
   "outputs": [],
   "source": [
    " ridge = Ridge() "
   ]
  },
  {
   "cell_type": "code",
   "execution_count": 28,
   "id": "b7970f64",
   "metadata": {},
   "outputs": [],
   "source": [
    "coeffs = []"
   ]
  },
  {
   "cell_type": "code",
   "execution_count": 32,
   "id": "98154772",
   "metadata": {},
   "outputs": [],
   "source": [
    "scaler = StandardScaler() \n",
    "for a in alphas: \n",
    "    ridge.set_params(alpha=a) \n",
    "    ridge.fit(scaler.fit_transform(X), y) \n",
    "    coeffs.append(ridge.coef_)\n"
   ]
  },
  {
   "cell_type": "code",
   "execution_count": 33,
   "id": "4fb418d5",
   "metadata": {},
   "outputs": [
    {
     "data": {
      "text/plain": [
       "(100, 18)"
      ]
     },
     "execution_count": 33,
     "metadata": {},
     "output_type": "execute_result"
    }
   ],
   "source": [
    "np.shape(coeffs)"
   ]
  },
  {
   "cell_type": "code",
   "execution_count": 34,
   "id": "0f41b458",
   "metadata": {},
   "outputs": [
    {
     "data": {
      "image/png": "[encoded data removed]",
      "text/plain": [
       "<Figure size 640x480 with 1 Axes>"
      ]
     },
     "metadata": {},
     "output_type": "display_data"
    }
   ],
   "source": [
    "ax = plt.gca()"
   ]
  },
  {
   "cell_type": "code",
   "execution_count": 38,
   "id": "8223f912",
   "metadata": {},
   "outputs": [
    {
     "data": {
      "image/png": "[encoded data removed]",
      "text/plain": [
       "<Figure size 640x480 with 1 Axes>"
      ]
     },
     "metadata": {},
     "output_type": "display_data"
    }
   ],
   "source": [
    "ax = plt.gca()\n",
    "ax.plot(alphas, coeffs) \n",
    "ax.set_xscale('log') \n",
    "plt.axis('tight') \n",
    "plt.xlabel('Lambda') \n",
    "plt.ylabel('Coefficients') \n",
    "plt.title('Ridge coefficients as a function of lambda(alpha)')\n",
    "plt.show() "
   ]
  },
  {
   "cell_type": "code",
   "execution_count": 42,
   "id": "7d660bbd",
   "metadata": {},
   "outputs": [],
   "source": [
    "pd.set_option('display.precision', 6)  "
   ]
  },
  {
   "cell_type": "code",
   "execution_count": 43,
   "id": "4fdbc94f",
   "metadata": {},
   "outputs": [],
   "source": [
    " X_train, X_test , y_train, y_test = model_selection.train_test_split(X,y, test_size=0.5, random_state=1)              "
   ]
  },
  {
   "cell_type": "code",
   "execution_count": 66,
   "id": "970150bb",
   "metadata": {},
   "outputs": [
    {
     "name": "stdout",
     "output_type": "stream",
     "text": [
      "Hits            -49.150111\n",
      "HmRun           -44.967769\n",
      "Runs             28.118853\n",
      "RBI              90.820350\n",
      "Walks            41.769596\n",
      "Years            73.037467\n",
      "CAtBat        -1945.351003\n",
      "CHits          2169.566693\n",
      "CHmRun          359.134234\n",
      "CRuns          -124.236721\n",
      "CRBI           -407.061158\n",
      "CWalks          152.415392\n",
      "PutOuts         118.977393\n",
      "Assists          51.254265\n",
      "Errors          -49.595691\n",
      "League_N         66.508333\n",
      "Division_W      -63.937555\n",
      "NewLeague_N     -36.138606\n",
      "dtype: float64\n",
      "Mean Squared Error:  131574.52734197237\n"
     ]
    }
   ],
   "source": [
    " def Ridge_Regression(alpha): \n",
    "     scaler = StandardScaler() \n",
    "ridge = Ridge(alpha=a) \n",
    "ridge.fit(scaler.fit_transform(X_train), y_train) \n",
    "pred = ridge.predict(scaler.fit_transform(X_test)) \n",
    "print(pd.Series(ridge.coef_, index=X.columns)) \n",
    "print('Mean Squared Error: ',mean_squared_error(y_test, pred))"
   ]
  },
  {
   "cell_type": "markdown",
   "id": "53125005",
   "metadata": {},
   "source": [
    "## Ridge Regression (Lambda = 0)"
   ]
  },
  {
   "cell_type": "code",
   "execution_count": 70,
   "id": "1264dc78",
   "metadata": {},
   "outputs": [],
   "source": [
    "Ridge_Regression(0)"
   ]
  },
  {
   "cell_type": "markdown",
   "id": "9e9790d3",
   "metadata": {},
   "source": [
    "## Ridge Regression (Lambda = 4)"
   ]
  },
  {
   "cell_type": "code",
   "execution_count": 71,
   "id": "50b0d1cd",
   "metadata": {},
   "outputs": [],
   "source": [
    " Ridge_Regression(4)"
   ]
  },
  {
   "cell_type": "markdown",
   "id": "a64fbf2f",
   "metadata": {},
   "source": [
    "## Ridge Regression (Lambda = 100)"
   ]
  },
  {
   "cell_type": "code",
   "execution_count": 72,
   "id": "745150f9",
   "metadata": {},
   "outputs": [],
   "source": [
    "Ridge_Regression(100)"
   ]
  },
  {
   "cell_type": "markdown",
   "id": "47165efb",
   "metadata": {},
   "source": [
    "## Ridge Regression (Lambda = 10**10"
   ]
  },
  {
   "cell_type": "code",
   "execution_count": 76,
   "id": "8da4e7b6",
   "metadata": {},
   "outputs": [],
   "source": [
    "Ridge_Regression(10**10)"
   ]
  },
  {
   "cell_type": "markdown",
   "id": "17388385",
   "metadata": {},
   "source": [
    "## RidgeCV– cv=none"
   ]
  },
  {
   "cell_type": "code",
   "execution_count": 77,
   "id": "1c950193",
   "metadata": {},
   "outputs": [],
   "source": [
    "scaler = StandardScaler()"
   ]
  },
  {
   "cell_type": "code",
   "execution_count": 78,
   "id": "cd9e2a57",
   "metadata": {},
   "outputs": [],
   "source": [
    "ridgecv = RidgeCV(alphas=alphas)"
   ]
  },
  {
   "cell_type": "code",
   "execution_count": 79,
   "id": "a15e13a4",
   "metadata": {},
   "outputs": [
    {
     "data": {
      "text/html": [
       "<style>#sk-container-id-1 {color: black;}#sk-container-id-1 pre{padding: 0;}#sk-container-id-1 div.sk-toggleable {background-color: white;}#sk-container-id-1 label.sk-toggleable__label {cursor: pointer;display: block;width: 100%;margin-bottom: 0;padding: 0.3em;box-sizing: border-box;text-align: center;}#sk-container-id-1 label.sk-toggleable__label-arrow:before {content: \"▸\";float: left;margin-right: 0.25em;color: #696969;}#sk-container-id-1 label.sk-toggleable__label-arrow:hover:before {color: black;}#sk-container-id-1 div.sk-estimator:hover label.sk-toggleable__label-arrow:before {color: black;}#sk-container-id-1 div.sk-toggleable__content {max-height: 0;max-width: 0;overflow: hidden;text-align: left;background-color: #f0f8ff;}#sk-container-id-1 div.sk-toggleable__content pre {margin: 0.2em;color: black;border-radius: 0.25em;background-color: #f0f8ff;}#sk-container-id-1 input.sk-toggleable__control:checked~div.sk-toggleable__content {max-height: 200px;max-width: 100%;overflow: auto;}#sk-container-id-1 input.sk-toggleable__control:checked~label.sk-toggleable__label-arrow:before {content: \"▾\";}#sk-container-id-1 div.sk-estimator input.sk-toggleable__control:checked~label.sk-toggleable__label {background-color: #d4ebff;}#sk-container-id-1 div.sk-label input.sk-toggleable__control:checked~label.sk-toggleable__label {background-color: #d4ebff;}#sk-container-id-1 input.sk-hidden--visually {border: 0;clip: rect(1px 1px 1px 1px);clip: rect(1px, 1px, 1px, 1px);height: 1px;margin: -1px;overflow: hidden;padding: 0;position: absolute;width: 1px;}#sk-container-id-1 div.sk-estimator {font-family: monospace;background-color: #f0f8ff;border: 1px dotted black;border-radius: 0.25em;box-sizing: border-box;margin-bottom: 0.5em;}#sk-container-id-1 div.sk-estimator:hover {background-color: #d4ebff;}#sk-container-id-1 div.sk-parallel-item::after {content: \"\";width: 100%;border-bottom: 1px solid gray;flex-grow: 1;}#sk-container-id-1 div.sk-label:hover label.sk-toggleable__label {background-color: #d4ebff;}#sk-container-id-1 div.sk-serial::before {content: \"\";position: absolute;border-left: 1px solid gray;box-sizing: border-box;top: 0;bottom: 0;left: 50%;z-index: 0;}#sk-container-id-1 div.sk-serial {display: flex;flex-direction: column;align-items: center;background-color: white;padding-right: 0.2em;padding-left: 0.2em;position: relative;}#sk-container-id-1 div.sk-item {position: relative;z-index: 1;}#sk-container-id-1 div.sk-parallel {display: flex;align-items: stretch;justify-content: center;background-color: white;position: relative;}#sk-container-id-1 div.sk-item::before, #sk-container-id-1 div.sk-parallel-item::before {content: \"\";position: absolute;border-left: 1px solid gray;box-sizing: border-box;top: 0;bottom: 0;left: 50%;z-index: -1;}#sk-container-id-1 div.sk-parallel-item {display: flex;flex-direction: column;z-index: 1;position: relative;background-color: white;}#sk-container-id-1 div.sk-parallel-item:first-child::after {align-self: flex-end;width: 50%;}#sk-container-id-1 div.sk-parallel-item:last-child::after {align-self: flex-start;width: 50%;}#sk-container-id-1 div.sk-parallel-item:only-child::after {width: 0;}#sk-container-id-1 div.sk-dashed-wrapped {border: 1px dashed gray;margin: 0 0.4em 0.5em 0.4em;box-sizing: border-box;padding-bottom: 0.4em;background-color: white;}#sk-container-id-1 div.sk-label label {font-family: monospace;font-weight: bold;display: inline-block;line-height: 1.2em;}#sk-container-id-1 div.sk-label-container {text-align: center;}#sk-container-id-1 div.sk-container {/* jupyter's `normalize.less` sets `[hidden] { display: none; }` but bootstrap.min.css set `[hidden] { display: none !important; }` so we also need the `!important` here to be able to override the default hidden behavior on the sphinx rendered scikit-learn.org. See: https://github.com/scikit-learn/scikit-learn/issues/21755 */display: inline-block !important;position: relative;}#sk-container-id-1 div.sk-text-repr-fallback {display: none;}</style><div id=\"sk-container-id-1\" class=\"sk-top-container\"><div class=\"sk-text-repr-fallback\"><pre>RidgeCV(alphas=array([1.00000000e+05, 7.56463328e+04, 5.72236766e+04, 4.32876128e+04,\n",
       "       3.27454916e+04, 2.47707636e+04, 1.87381742e+04, 1.41747416e+04,\n",
       "       1.07226722e+04, 8.11130831e+03, 6.13590727e+03, 4.64158883e+03,\n",
       "       3.51119173e+03, 2.65608778e+03, 2.00923300e+03, 1.51991108e+03,\n",
       "       1.14975700e+03, 8.69749003e+02, 6.57933225e+02, 4.97702356e+02,\n",
       "       3.76493581e+02, 2.84803587e+0...\n",
       "       6.13590727e-05, 4.64158883e-05, 3.51119173e-05, 2.65608778e-05,\n",
       "       2.00923300e-05, 1.51991108e-05, 1.14975700e-05, 8.69749003e-06,\n",
       "       6.57933225e-06, 4.97702356e-06, 3.76493581e-06, 2.84803587e-06,\n",
       "       2.15443469e-06, 1.62975083e-06, 1.23284674e-06, 9.32603347e-07,\n",
       "       7.05480231e-07, 5.33669923e-07, 4.03701726e-07, 3.05385551e-07,\n",
       "       2.31012970e-07, 1.74752840e-07, 1.32194115e-07, 1.00000000e-07]))</pre><b>In a Jupyter environment, please rerun this cell to show the HTML representation or trust the notebook. <br />On GitHub, the HTML representation is unable to render, please try loading this page with nbviewer.org.</b></div><div class=\"sk-container\" hidden><div class=\"sk-item\"><div class=\"sk-estimator sk-toggleable\"><input class=\"sk-toggleable__control sk-hidden--visually\" id=\"sk-estimator-id-1\" type=\"checkbox\" checked><label for=\"sk-estimator-id-1\" class=\"sk-toggleable__label sk-toggleable__label-arrow\">RidgeCV</label><div class=\"sk-toggleable__content\"><pre>RidgeCV(alphas=array([1.00000000e+05, 7.56463328e+04, 5.72236766e+04, 4.32876128e+04,\n",
       "       3.27454916e+04, 2.47707636e+04, 1.87381742e+04, 1.41747416e+04,\n",
       "       1.07226722e+04, 8.11130831e+03, 6.13590727e+03, 4.64158883e+03,\n",
       "       3.51119173e+03, 2.65608778e+03, 2.00923300e+03, 1.51991108e+03,\n",
       "       1.14975700e+03, 8.69749003e+02, 6.57933225e+02, 4.97702356e+02,\n",
       "       3.76493581e+02, 2.84803587e+0...\n",
       "       6.13590727e-05, 4.64158883e-05, 3.51119173e-05, 2.65608778e-05,\n",
       "       2.00923300e-05, 1.51991108e-05, 1.14975700e-05, 8.69749003e-06,\n",
       "       6.57933225e-06, 4.97702356e-06, 3.76493581e-06, 2.84803587e-06,\n",
       "       2.15443469e-06, 1.62975083e-06, 1.23284674e-06, 9.32603347e-07,\n",
       "       7.05480231e-07, 5.33669923e-07, 4.03701726e-07, 3.05385551e-07,\n",
       "       2.31012970e-07, 1.74752840e-07, 1.32194115e-07, 1.00000000e-07]))</pre></div></div></div></div></div>"
      ],
      "text/plain": [
       "RidgeCV(alphas=array([1.00000000e+05, 7.56463328e+04, 5.72236766e+04, 4.32876128e+04,\n",
       "       3.27454916e+04, 2.47707636e+04, 1.87381742e+04, 1.41747416e+04,\n",
       "       1.07226722e+04, 8.11130831e+03, 6.13590727e+03, 4.64158883e+03,\n",
       "       3.51119173e+03, 2.65608778e+03, 2.00923300e+03, 1.51991108e+03,\n",
       "       1.14975700e+03, 8.69749003e+02, 6.57933225e+02, 4.97702356e+02,\n",
       "       3.76493581e+02, 2.84803587e+0...\n",
       "       6.13590727e-05, 4.64158883e-05, 3.51119173e-05, 2.65608778e-05,\n",
       "       2.00923300e-05, 1.51991108e-05, 1.14975700e-05, 8.69749003e-06,\n",
       "       6.57933225e-06, 4.97702356e-06, 3.76493581e-06, 2.84803587e-06,\n",
       "       2.15443469e-06, 1.62975083e-06, 1.23284674e-06, 9.32603347e-07,\n",
       "       7.05480231e-07, 5.33669923e-07, 4.03701726e-07, 3.05385551e-07,\n",
       "       2.31012970e-07, 1.74752840e-07, 1.32194115e-07, 1.00000000e-07]))"
      ]
     },
     "execution_count": 79,
     "metadata": {},
     "output_type": "execute_result"
    }
   ],
   "source": [
    "ridgecv.fit(scaler.fit_transform(X_train), y_train)"
   ]
  },
  {
   "cell_type": "code",
   "execution_count": 80,
   "id": "af55e10a",
   "metadata": {},
   "outputs": [
    {
     "data": {
      "text/plain": [
       "93.26033468832199"
      ]
     },
     "execution_count": 80,
     "metadata": {},
     "output_type": "execute_result"
    }
   ],
   "source": [
    "ridgecv.alpha_ "
   ]
  },
  {
   "cell_type": "markdown",
   "id": "7a1cdcc3",
   "metadata": {},
   "source": [
    "## RidgeCV – cv=5"
   ]
  },
  {
   "cell_type": "code",
   "execution_count": 81,
   "id": "5004c389",
   "metadata": {},
   "outputs": [],
   "source": [
    " scaler = StandardScaler()"
   ]
  },
  {
   "cell_type": "code",
   "execution_count": 82,
   "id": "b1192e04",
   "metadata": {},
   "outputs": [],
   "source": [
    "ridgecv = RidgeCV(alphas=alphas, cv=5)"
   ]
  },
  {
   "cell_type": "code",
   "execution_count": 83,
   "id": "da1e8235",
   "metadata": {},
   "outputs": [
    {
     "data": {
      "text/html": [
       "<style>#sk-container-id-2 {color: black;}#sk-container-id-2 pre{padding: 0;}#sk-container-id-2 div.sk-toggleable {background-color: white;}#sk-container-id-2 label.sk-toggleable__label {cursor: pointer;display: block;width: 100%;margin-bottom: 0;padding: 0.3em;box-sizing: border-box;text-align: center;}#sk-container-id-2 label.sk-toggleable__label-arrow:before {content: \"▸\";float: left;margin-right: 0.25em;color: #696969;}#sk-container-id-2 label.sk-toggleable__label-arrow:hover:before {color: black;}#sk-container-id-2 div.sk-estimator:hover label.sk-toggleable__label-arrow:before {color: black;}#sk-container-id-2 div.sk-toggleable__content {max-height: 0;max-width: 0;overflow: hidden;text-align: left;background-color: #f0f8ff;}#sk-container-id-2 div.sk-toggleable__content pre {margin: 0.2em;color: black;border-radius: 0.25em;background-color: #f0f8ff;}#sk-container-id-2 input.sk-toggleable__control:checked~div.sk-toggleable__content {max-height: 200px;max-width: 100%;overflow: auto;}#sk-container-id-2 input.sk-toggleable__control:checked~label.sk-toggleable__label-arrow:before {content: \"▾\";}#sk-container-id-2 div.sk-estimator input.sk-toggleable__control:checked~label.sk-toggleable__label {background-color: #d4ebff;}#sk-container-id-2 div.sk-label input.sk-toggleable__control:checked~label.sk-toggleable__label {background-color: #d4ebff;}#sk-container-id-2 input.sk-hidden--visually {border: 0;clip: rect(1px 1px 1px 1px);clip: rect(1px, 1px, 1px, 1px);height: 1px;margin: -1px;overflow: hidden;padding: 0;position: absolute;width: 1px;}#sk-container-id-2 div.sk-estimator {font-family: monospace;background-color: #f0f8ff;border: 1px dotted black;border-radius: 0.25em;box-sizing: border-box;margin-bottom: 0.5em;}#sk-container-id-2 div.sk-estimator:hover {background-color: #d4ebff;}#sk-container-id-2 div.sk-parallel-item::after {content: \"\";width: 100%;border-bottom: 1px solid gray;flex-grow: 1;}#sk-container-id-2 div.sk-label:hover label.sk-toggleable__label {background-color: #d4ebff;}#sk-container-id-2 div.sk-serial::before {content: \"\";position: absolute;border-left: 1px solid gray;box-sizing: border-box;top: 0;bottom: 0;left: 50%;z-index: 0;}#sk-container-id-2 div.sk-serial {display: flex;flex-direction: column;align-items: center;background-color: white;padding-right: 0.2em;padding-left: 0.2em;position: relative;}#sk-container-id-2 div.sk-item {position: relative;z-index: 1;}#sk-container-id-2 div.sk-parallel {display: flex;align-items: stretch;justify-content: center;background-color: white;position: relative;}#sk-container-id-2 div.sk-item::before, #sk-container-id-2 div.sk-parallel-item::before {content: \"\";position: absolute;border-left: 1px solid gray;box-sizing: border-box;top: 0;bottom: 0;left: 50%;z-index: -1;}#sk-container-id-2 div.sk-parallel-item {display: flex;flex-direction: column;z-index: 1;position: relative;background-color: white;}#sk-container-id-2 div.sk-parallel-item:first-child::after {align-self: flex-end;width: 50%;}#sk-container-id-2 div.sk-parallel-item:last-child::after {align-self: flex-start;width: 50%;}#sk-container-id-2 div.sk-parallel-item:only-child::after {width: 0;}#sk-container-id-2 div.sk-dashed-wrapped {border: 1px dashed gray;margin: 0 0.4em 0.5em 0.4em;box-sizing: border-box;padding-bottom: 0.4em;background-color: white;}#sk-container-id-2 div.sk-label label {font-family: monospace;font-weight: bold;display: inline-block;line-height: 1.2em;}#sk-container-id-2 div.sk-label-container {text-align: center;}#sk-container-id-2 div.sk-container {/* jupyter's `normalize.less` sets `[hidden] { display: none; }` but bootstrap.min.css set `[hidden] { display: none !important; }` so we also need the `!important` here to be able to override the default hidden behavior on the sphinx rendered scikit-learn.org. See: https://github.com/scikit-learn/scikit-learn/issues/21755 */display: inline-block !important;position: relative;}#sk-container-id-2 div.sk-text-repr-fallback {display: none;}</style><div id=\"sk-container-id-2\" class=\"sk-top-container\"><div class=\"sk-text-repr-fallback\"><pre>RidgeCV(alphas=array([1.00000000e+05, 7.56463328e+04, 5.72236766e+04, 4.32876128e+04,\n",
       "       3.27454916e+04, 2.47707636e+04, 1.87381742e+04, 1.41747416e+04,\n",
       "       1.07226722e+04, 8.11130831e+03, 6.13590727e+03, 4.64158883e+03,\n",
       "       3.51119173e+03, 2.65608778e+03, 2.00923300e+03, 1.51991108e+03,\n",
       "       1.14975700e+03, 8.69749003e+02, 6.57933225e+02, 4.97702356e+02,\n",
       "       3.76493581e+02, 2.84803587e+0...\n",
       "       6.13590727e-05, 4.64158883e-05, 3.51119173e-05, 2.65608778e-05,\n",
       "       2.00923300e-05, 1.51991108e-05, 1.14975700e-05, 8.69749003e-06,\n",
       "       6.57933225e-06, 4.97702356e-06, 3.76493581e-06, 2.84803587e-06,\n",
       "       2.15443469e-06, 1.62975083e-06, 1.23284674e-06, 9.32603347e-07,\n",
       "       7.05480231e-07, 5.33669923e-07, 4.03701726e-07, 3.05385551e-07,\n",
       "       2.31012970e-07, 1.74752840e-07, 1.32194115e-07, 1.00000000e-07]),\n",
       "        cv=5)</pre><b>In a Jupyter environment, please rerun this cell to show the HTML representation or trust the notebook. <br />On GitHub, the HTML representation is unable to render, please try loading this page with nbviewer.org.</b></div><div class=\"sk-container\" hidden><div class=\"sk-item\"><div class=\"sk-estimator sk-toggleable\"><input class=\"sk-toggleable__control sk-hidden--visually\" id=\"sk-estimator-id-2\" type=\"checkbox\" checked><label for=\"sk-estimator-id-2\" class=\"sk-toggleable__label sk-toggleable__label-arrow\">RidgeCV</label><div class=\"sk-toggleable__content\"><pre>RidgeCV(alphas=array([1.00000000e+05, 7.56463328e+04, 5.72236766e+04, 4.32876128e+04,\n",
       "       3.27454916e+04, 2.47707636e+04, 1.87381742e+04, 1.41747416e+04,\n",
       "       1.07226722e+04, 8.11130831e+03, 6.13590727e+03, 4.64158883e+03,\n",
       "       3.51119173e+03, 2.65608778e+03, 2.00923300e+03, 1.51991108e+03,\n",
       "       1.14975700e+03, 8.69749003e+02, 6.57933225e+02, 4.97702356e+02,\n",
       "       3.76493581e+02, 2.84803587e+0...\n",
       "       6.13590727e-05, 4.64158883e-05, 3.51119173e-05, 2.65608778e-05,\n",
       "       2.00923300e-05, 1.51991108e-05, 1.14975700e-05, 8.69749003e-06,\n",
       "       6.57933225e-06, 4.97702356e-06, 3.76493581e-06, 2.84803587e-06,\n",
       "       2.15443469e-06, 1.62975083e-06, 1.23284674e-06, 9.32603347e-07,\n",
       "       7.05480231e-07, 5.33669923e-07, 4.03701726e-07, 3.05385551e-07,\n",
       "       2.31012970e-07, 1.74752840e-07, 1.32194115e-07, 1.00000000e-07]),\n",
       "        cv=5)</pre></div></div></div></div></div>"
      ],
      "text/plain": [
       "RidgeCV(alphas=array([1.00000000e+05, 7.56463328e+04, 5.72236766e+04, 4.32876128e+04,\n",
       "       3.27454916e+04, 2.47707636e+04, 1.87381742e+04, 1.41747416e+04,\n",
       "       1.07226722e+04, 8.11130831e+03, 6.13590727e+03, 4.64158883e+03,\n",
       "       3.51119173e+03, 2.65608778e+03, 2.00923300e+03, 1.51991108e+03,\n",
       "       1.14975700e+03, 8.69749003e+02, 6.57933225e+02, 4.97702356e+02,\n",
       "       3.76493581e+02, 2.84803587e+0...\n",
       "       6.13590727e-05, 4.64158883e-05, 3.51119173e-05, 2.65608778e-05,\n",
       "       2.00923300e-05, 1.51991108e-05, 1.14975700e-05, 8.69749003e-06,\n",
       "       6.57933225e-06, 4.97702356e-06, 3.76493581e-06, 2.84803587e-06,\n",
       "       2.15443469e-06, 1.62975083e-06, 1.23284674e-06, 9.32603347e-07,\n",
       "       7.05480231e-07, 5.33669923e-07, 4.03701726e-07, 3.05385551e-07,\n",
       "       2.31012970e-07, 1.74752840e-07, 1.32194115e-07, 1.00000000e-07]),\n",
       "        cv=5)"
      ]
     },
     "execution_count": 83,
     "metadata": {},
     "output_type": "execute_result"
    }
   ],
   "source": [
    " ridgecv.fit(scaler.fit_transform(X_train), y_train)"
   ]
  },
  {
   "cell_type": "code",
   "execution_count": 84,
   "id": "5aef4f01",
   "metadata": {},
   "outputs": [
    {
     "data": {
      "text/plain": [
       "93.26033468832199"
      ]
     },
     "execution_count": 84,
     "metadata": {},
     "output_type": "execute_result"
    }
   ],
   "source": [
    " ridgecv.alpha_ "
   ]
  },
  {
   "cell_type": "markdown",
   "id": "e02788c6",
   "metadata": {},
   "source": [
    "## RidgeCV – cv=10"
   ]
  },
  {
   "cell_type": "code",
   "execution_count": 85,
   "id": "47cbeec5",
   "metadata": {},
   "outputs": [],
   "source": [
    " scaler = StandardScaler()"
   ]
  },
  {
   "cell_type": "code",
   "execution_count": 86,
   "id": "b7d5f382",
   "metadata": {},
   "outputs": [],
   "source": [
    " ridgecv = RidgeCV(alphas=alphas, cv=10)"
   ]
  },
  {
   "cell_type": "code",
   "execution_count": 87,
   "id": "af716abf",
   "metadata": {},
   "outputs": [
    {
     "data": {
      "text/html": [
       "<style>#sk-container-id-3 {color: black;}#sk-container-id-3 pre{padding: 0;}#sk-container-id-3 div.sk-toggleable {background-color: white;}#sk-container-id-3 label.sk-toggleable__label {cursor: pointer;display: block;width: 100%;margin-bottom: 0;padding: 0.3em;box-sizing: border-box;text-align: center;}#sk-container-id-3 label.sk-toggleable__label-arrow:before {content: \"▸\";float: left;margin-right: 0.25em;color: #696969;}#sk-container-id-3 label.sk-toggleable__label-arrow:hover:before {color: black;}#sk-container-id-3 div.sk-estimator:hover label.sk-toggleable__label-arrow:before {color: black;}#sk-container-id-3 div.sk-toggleable__content {max-height: 0;max-width: 0;overflow: hidden;text-align: left;background-color: #f0f8ff;}#sk-container-id-3 div.sk-toggleable__content pre {margin: 0.2em;color: black;border-radius: 0.25em;background-color: #f0f8ff;}#sk-container-id-3 input.sk-toggleable__control:checked~div.sk-toggleable__content {max-height: 200px;max-width: 100%;overflow: auto;}#sk-container-id-3 input.sk-toggleable__control:checked~label.sk-toggleable__label-arrow:before {content: \"▾\";}#sk-container-id-3 div.sk-estimator input.sk-toggleable__control:checked~label.sk-toggleable__label {background-color: #d4ebff;}#sk-container-id-3 div.sk-label input.sk-toggleable__control:checked~label.sk-toggleable__label {background-color: #d4ebff;}#sk-container-id-3 input.sk-hidden--visually {border: 0;clip: rect(1px 1px 1px 1px);clip: rect(1px, 1px, 1px, 1px);height: 1px;margin: -1px;overflow: hidden;padding: 0;position: absolute;width: 1px;}#sk-container-id-3 div.sk-estimator {font-family: monospace;background-color: #f0f8ff;border: 1px dotted black;border-radius: 0.25em;box-sizing: border-box;margin-bottom: 0.5em;}#sk-container-id-3 div.sk-estimator:hover {background-color: #d4ebff;}#sk-container-id-3 div.sk-parallel-item::after {content: \"\";width: 100%;border-bottom: 1px solid gray;flex-grow: 1;}#sk-container-id-3 div.sk-label:hover label.sk-toggleable__label {background-color: #d4ebff;}#sk-container-id-3 div.sk-serial::before {content: \"\";position: absolute;border-left: 1px solid gray;box-sizing: border-box;top: 0;bottom: 0;left: 50%;z-index: 0;}#sk-container-id-3 div.sk-serial {display: flex;flex-direction: column;align-items: center;background-color: white;padding-right: 0.2em;padding-left: 0.2em;position: relative;}#sk-container-id-3 div.sk-item {position: relative;z-index: 1;}#sk-container-id-3 div.sk-parallel {display: flex;align-items: stretch;justify-content: center;background-color: white;position: relative;}#sk-container-id-3 div.sk-item::before, #sk-container-id-3 div.sk-parallel-item::before {content: \"\";position: absolute;border-left: 1px solid gray;box-sizing: border-box;top: 0;bottom: 0;left: 50%;z-index: -1;}#sk-container-id-3 div.sk-parallel-item {display: flex;flex-direction: column;z-index: 1;position: relative;background-color: white;}#sk-container-id-3 div.sk-parallel-item:first-child::after {align-self: flex-end;width: 50%;}#sk-container-id-3 div.sk-parallel-item:last-child::after {align-self: flex-start;width: 50%;}#sk-container-id-3 div.sk-parallel-item:only-child::after {width: 0;}#sk-container-id-3 div.sk-dashed-wrapped {border: 1px dashed gray;margin: 0 0.4em 0.5em 0.4em;box-sizing: border-box;padding-bottom: 0.4em;background-color: white;}#sk-container-id-3 div.sk-label label {font-family: monospace;font-weight: bold;display: inline-block;line-height: 1.2em;}#sk-container-id-3 div.sk-label-container {text-align: center;}#sk-container-id-3 div.sk-container {/* jupyter's `normalize.less` sets `[hidden] { display: none; }` but bootstrap.min.css set `[hidden] { display: none !important; }` so we also need the `!important` here to be able to override the default hidden behavior on the sphinx rendered scikit-learn.org. See: https://github.com/scikit-learn/scikit-learn/issues/21755 */display: inline-block !important;position: relative;}#sk-container-id-3 div.sk-text-repr-fallback {display: none;}</style><div id=\"sk-container-id-3\" class=\"sk-top-container\"><div class=\"sk-text-repr-fallback\"><pre>RidgeCV(alphas=array([1.00000000e+05, 7.56463328e+04, 5.72236766e+04, 4.32876128e+04,\n",
       "       3.27454916e+04, 2.47707636e+04, 1.87381742e+04, 1.41747416e+04,\n",
       "       1.07226722e+04, 8.11130831e+03, 6.13590727e+03, 4.64158883e+03,\n",
       "       3.51119173e+03, 2.65608778e+03, 2.00923300e+03, 1.51991108e+03,\n",
       "       1.14975700e+03, 8.69749003e+02, 6.57933225e+02, 4.97702356e+02,\n",
       "       3.76493581e+02, 2.84803587e+0...\n",
       "       6.13590727e-05, 4.64158883e-05, 3.51119173e-05, 2.65608778e-05,\n",
       "       2.00923300e-05, 1.51991108e-05, 1.14975700e-05, 8.69749003e-06,\n",
       "       6.57933225e-06, 4.97702356e-06, 3.76493581e-06, 2.84803587e-06,\n",
       "       2.15443469e-06, 1.62975083e-06, 1.23284674e-06, 9.32603347e-07,\n",
       "       7.05480231e-07, 5.33669923e-07, 4.03701726e-07, 3.05385551e-07,\n",
       "       2.31012970e-07, 1.74752840e-07, 1.32194115e-07, 1.00000000e-07]),\n",
       "        cv=10)</pre><b>In a Jupyter environment, please rerun this cell to show the HTML representation or trust the notebook. <br />On GitHub, the HTML representation is unable to render, please try loading this page with nbviewer.org.</b></div><div class=\"sk-container\" hidden><div class=\"sk-item\"><div class=\"sk-estimator sk-toggleable\"><input class=\"sk-toggleable__control sk-hidden--visually\" id=\"sk-estimator-id-3\" type=\"checkbox\" checked><label for=\"sk-estimator-id-3\" class=\"sk-toggleable__label sk-toggleable__label-arrow\">RidgeCV</label><div class=\"sk-toggleable__content\"><pre>RidgeCV(alphas=array([1.00000000e+05, 7.56463328e+04, 5.72236766e+04, 4.32876128e+04,\n",
       "       3.27454916e+04, 2.47707636e+04, 1.87381742e+04, 1.41747416e+04,\n",
       "       1.07226722e+04, 8.11130831e+03, 6.13590727e+03, 4.64158883e+03,\n",
       "       3.51119173e+03, 2.65608778e+03, 2.00923300e+03, 1.51991108e+03,\n",
       "       1.14975700e+03, 8.69749003e+02, 6.57933225e+02, 4.97702356e+02,\n",
       "       3.76493581e+02, 2.84803587e+0...\n",
       "       6.13590727e-05, 4.64158883e-05, 3.51119173e-05, 2.65608778e-05,\n",
       "       2.00923300e-05, 1.51991108e-05, 1.14975700e-05, 8.69749003e-06,\n",
       "       6.57933225e-06, 4.97702356e-06, 3.76493581e-06, 2.84803587e-06,\n",
       "       2.15443469e-06, 1.62975083e-06, 1.23284674e-06, 9.32603347e-07,\n",
       "       7.05480231e-07, 5.33669923e-07, 4.03701726e-07, 3.05385551e-07,\n",
       "       2.31012970e-07, 1.74752840e-07, 1.32194115e-07, 1.00000000e-07]),\n",
       "        cv=10)</pre></div></div></div></div></div>"
      ],
      "text/plain": [
       "RidgeCV(alphas=array([1.00000000e+05, 7.56463328e+04, 5.72236766e+04, 4.32876128e+04,\n",
       "       3.27454916e+04, 2.47707636e+04, 1.87381742e+04, 1.41747416e+04,\n",
       "       1.07226722e+04, 8.11130831e+03, 6.13590727e+03, 4.64158883e+03,\n",
       "       3.51119173e+03, 2.65608778e+03, 2.00923300e+03, 1.51991108e+03,\n",
       "       1.14975700e+03, 8.69749003e+02, 6.57933225e+02, 4.97702356e+02,\n",
       "       3.76493581e+02, 2.84803587e+0...\n",
       "       6.13590727e-05, 4.64158883e-05, 3.51119173e-05, 2.65608778e-05,\n",
       "       2.00923300e-05, 1.51991108e-05, 1.14975700e-05, 8.69749003e-06,\n",
       "       6.57933225e-06, 4.97702356e-06, 3.76493581e-06, 2.84803587e-06,\n",
       "       2.15443469e-06, 1.62975083e-06, 1.23284674e-06, 9.32603347e-07,\n",
       "       7.05480231e-07, 5.33669923e-07, 4.03701726e-07, 3.05385551e-07,\n",
       "       2.31012970e-07, 1.74752840e-07, 1.32194115e-07, 1.00000000e-07]),\n",
       "        cv=10)"
      ]
     },
     "execution_count": 87,
     "metadata": {},
     "output_type": "execute_result"
    }
   ],
   "source": [
    " ridgecv.fit(scaler.fit_transform(X_train), y_train)"
   ]
  },
  {
   "cell_type": "code",
   "execution_count": 88,
   "id": "29d28324",
   "metadata": {},
   "outputs": [
    {
     "data": {
      "text/plain": [
       "162.97508346206436"
      ]
     },
     "execution_count": 88,
     "metadata": {},
     "output_type": "execute_result"
    }
   ],
   "source": [
    "ridgecv.alpha_ "
   ]
  },
  {
   "cell_type": "markdown",
   "id": "51aa3a31",
   "metadata": {},
   "source": [
    "## Optimal Ridge Regression"
   ]
  },
  {
   "cell_type": "code",
   "execution_count": 89,
   "id": "89b3294c",
   "metadata": {},
   "outputs": [],
   "source": [
    "scaler = StandardScaler()"
   ]
  },
  {
   "cell_type": "code",
   "execution_count": 90,
   "id": "af9a703e",
   "metadata": {},
   "outputs": [],
   "source": [
    " opt_ridge = Ridge(alpha=ridgecv.alpha_)"
   ]
  },
  {
   "cell_type": "code",
   "execution_count": 91,
   "id": "760c11e5",
   "metadata": {},
   "outputs": [
    {
     "data": {
      "text/html": [
       "<style>#sk-container-id-4 {color: black;}#sk-container-id-4 pre{padding: 0;}#sk-container-id-4 div.sk-toggleable {background-color: white;}#sk-container-id-4 label.sk-toggleable__label {cursor: pointer;display: block;width: 100%;margin-bottom: 0;padding: 0.3em;box-sizing: border-box;text-align: center;}#sk-container-id-4 label.sk-toggleable__label-arrow:before {content: \"▸\";float: left;margin-right: 0.25em;color: #696969;}#sk-container-id-4 label.sk-toggleable__label-arrow:hover:before {color: black;}#sk-container-id-4 div.sk-estimator:hover label.sk-toggleable__label-arrow:before {color: black;}#sk-container-id-4 div.sk-toggleable__content {max-height: 0;max-width: 0;overflow: hidden;text-align: left;background-color: #f0f8ff;}#sk-container-id-4 div.sk-toggleable__content pre {margin: 0.2em;color: black;border-radius: 0.25em;background-color: #f0f8ff;}#sk-container-id-4 input.sk-toggleable__control:checked~div.sk-toggleable__content {max-height: 200px;max-width: 100%;overflow: auto;}#sk-container-id-4 input.sk-toggleable__control:checked~label.sk-toggleable__label-arrow:before {content: \"▾\";}#sk-container-id-4 div.sk-estimator input.sk-toggleable__control:checked~label.sk-toggleable__label {background-color: #d4ebff;}#sk-container-id-4 div.sk-label input.sk-toggleable__control:checked~label.sk-toggleable__label {background-color: #d4ebff;}#sk-container-id-4 input.sk-hidden--visually {border: 0;clip: rect(1px 1px 1px 1px);clip: rect(1px, 1px, 1px, 1px);height: 1px;margin: -1px;overflow: hidden;padding: 0;position: absolute;width: 1px;}#sk-container-id-4 div.sk-estimator {font-family: monospace;background-color: #f0f8ff;border: 1px dotted black;border-radius: 0.25em;box-sizing: border-box;margin-bottom: 0.5em;}#sk-container-id-4 div.sk-estimator:hover {background-color: #d4ebff;}#sk-container-id-4 div.sk-parallel-item::after {content: \"\";width: 100%;border-bottom: 1px solid gray;flex-grow: 1;}#sk-container-id-4 div.sk-label:hover label.sk-toggleable__label {background-color: #d4ebff;}#sk-container-id-4 div.sk-serial::before {content: \"\";position: absolute;border-left: 1px solid gray;box-sizing: border-box;top: 0;bottom: 0;left: 50%;z-index: 0;}#sk-container-id-4 div.sk-serial {display: flex;flex-direction: column;align-items: center;background-color: white;padding-right: 0.2em;padding-left: 0.2em;position: relative;}#sk-container-id-4 div.sk-item {position: relative;z-index: 1;}#sk-container-id-4 div.sk-parallel {display: flex;align-items: stretch;justify-content: center;background-color: white;position: relative;}#sk-container-id-4 div.sk-item::before, #sk-container-id-4 div.sk-parallel-item::before {content: \"\";position: absolute;border-left: 1px solid gray;box-sizing: border-box;top: 0;bottom: 0;left: 50%;z-index: -1;}#sk-container-id-4 div.sk-parallel-item {display: flex;flex-direction: column;z-index: 1;position: relative;background-color: white;}#sk-container-id-4 div.sk-parallel-item:first-child::after {align-self: flex-end;width: 50%;}#sk-container-id-4 div.sk-parallel-item:last-child::after {align-self: flex-start;width: 50%;}#sk-container-id-4 div.sk-parallel-item:only-child::after {width: 0;}#sk-container-id-4 div.sk-dashed-wrapped {border: 1px dashed gray;margin: 0 0.4em 0.5em 0.4em;box-sizing: border-box;padding-bottom: 0.4em;background-color: white;}#sk-container-id-4 div.sk-label label {font-family: monospace;font-weight: bold;display: inline-block;line-height: 1.2em;}#sk-container-id-4 div.sk-label-container {text-align: center;}#sk-container-id-4 div.sk-container {/* jupyter's `normalize.less` sets `[hidden] { display: none; }` but bootstrap.min.css set `[hidden] { display: none !important; }` so we also need the `!important` here to be able to override the default hidden behavior on the sphinx rendered scikit-learn.org. See: https://github.com/scikit-learn/scikit-learn/issues/21755 */display: inline-block !important;position: relative;}#sk-container-id-4 div.sk-text-repr-fallback {display: none;}</style><div id=\"sk-container-id-4\" class=\"sk-top-container\"><div class=\"sk-text-repr-fallback\"><pre>Ridge(alpha=162.97508346206436)</pre><b>In a Jupyter environment, please rerun this cell to show the HTML representation or trust the notebook. <br />On GitHub, the HTML representation is unable to render, please try loading this page with nbviewer.org.</b></div><div class=\"sk-container\" hidden><div class=\"sk-item\"><div class=\"sk-estimator sk-toggleable\"><input class=\"sk-toggleable__control sk-hidden--visually\" id=\"sk-estimator-id-4\" type=\"checkbox\" checked><label for=\"sk-estimator-id-4\" class=\"sk-toggleable__label sk-toggleable__label-arrow\">Ridge</label><div class=\"sk-toggleable__content\"><pre>Ridge(alpha=162.97508346206436)</pre></div></div></div></div></div>"
      ],
      "text/plain": [
       "Ridge(alpha=162.97508346206436)"
      ]
     },
     "execution_count": 91,
     "metadata": {},
     "output_type": "execute_result"
    }
   ],
   "source": [
    " opt_ridge.fit(scaler.fit_transform(X_train), y_train)"
   ]
  },
  {
   "cell_type": "code",
   "execution_count": 92,
   "id": "8054485a",
   "metadata": {},
   "outputs": [],
   "source": [
    " pred = opt_ridge.predict(scaler.fit_transform(X_test))"
   ]
  },
  {
   "cell_type": "code",
   "execution_count": 93,
   "id": "22cc1fee",
   "metadata": {},
   "outputs": [
    {
     "data": {
      "text/plain": [
       "99819.503202809"
      ]
     },
     "execution_count": 93,
     "metadata": {},
     "output_type": "execute_result"
    }
   ],
   "source": [
    "mean_squared_error(y_test, pred)"
   ]
  },
  {
   "cell_type": "markdown",
   "id": "382393a7",
   "metadata": {},
   "source": [
    "## Ridge Regression -  Full Dataset"
   ]
  },
  {
   "cell_type": "code",
   "execution_count": 94,
   "id": "c75555a7",
   "metadata": {},
   "outputs": [
    {
     "data": {
      "text/html": [
       "<style>#sk-container-id-5 {color: black;}#sk-container-id-5 pre{padding: 0;}#sk-container-id-5 div.sk-toggleable {background-color: white;}#sk-container-id-5 label.sk-toggleable__label {cursor: pointer;display: block;width: 100%;margin-bottom: 0;padding: 0.3em;box-sizing: border-box;text-align: center;}#sk-container-id-5 label.sk-toggleable__label-arrow:before {content: \"▸\";float: left;margin-right: 0.25em;color: #696969;}#sk-container-id-5 label.sk-toggleable__label-arrow:hover:before {color: black;}#sk-container-id-5 div.sk-estimator:hover label.sk-toggleable__label-arrow:before {color: black;}#sk-container-id-5 div.sk-toggleable__content {max-height: 0;max-width: 0;overflow: hidden;text-align: left;background-color: #f0f8ff;}#sk-container-id-5 div.sk-toggleable__content pre {margin: 0.2em;color: black;border-radius: 0.25em;background-color: #f0f8ff;}#sk-container-id-5 input.sk-toggleable__control:checked~div.sk-toggleable__content {max-height: 200px;max-width: 100%;overflow: auto;}#sk-container-id-5 input.sk-toggleable__control:checked~label.sk-toggleable__label-arrow:before {content: \"▾\";}#sk-container-id-5 div.sk-estimator input.sk-toggleable__control:checked~label.sk-toggleable__label {background-color: #d4ebff;}#sk-container-id-5 div.sk-label input.sk-toggleable__control:checked~label.sk-toggleable__label {background-color: #d4ebff;}#sk-container-id-5 input.sk-hidden--visually {border: 0;clip: rect(1px 1px 1px 1px);clip: rect(1px, 1px, 1px, 1px);height: 1px;margin: -1px;overflow: hidden;padding: 0;position: absolute;width: 1px;}#sk-container-id-5 div.sk-estimator {font-family: monospace;background-color: #f0f8ff;border: 1px dotted black;border-radius: 0.25em;box-sizing: border-box;margin-bottom: 0.5em;}#sk-container-id-5 div.sk-estimator:hover {background-color: #d4ebff;}#sk-container-id-5 div.sk-parallel-item::after {content: \"\";width: 100%;border-bottom: 1px solid gray;flex-grow: 1;}#sk-container-id-5 div.sk-label:hover label.sk-toggleable__label {background-color: #d4ebff;}#sk-container-id-5 div.sk-serial::before {content: \"\";position: absolute;border-left: 1px solid gray;box-sizing: border-box;top: 0;bottom: 0;left: 50%;z-index: 0;}#sk-container-id-5 div.sk-serial {display: flex;flex-direction: column;align-items: center;background-color: white;padding-right: 0.2em;padding-left: 0.2em;position: relative;}#sk-container-id-5 div.sk-item {position: relative;z-index: 1;}#sk-container-id-5 div.sk-parallel {display: flex;align-items: stretch;justify-content: center;background-color: white;position: relative;}#sk-container-id-5 div.sk-item::before, #sk-container-id-5 div.sk-parallel-item::before {content: \"\";position: absolute;border-left: 1px solid gray;box-sizing: border-box;top: 0;bottom: 0;left: 50%;z-index: -1;}#sk-container-id-5 div.sk-parallel-item {display: flex;flex-direction: column;z-index: 1;position: relative;background-color: white;}#sk-container-id-5 div.sk-parallel-item:first-child::after {align-self: flex-end;width: 50%;}#sk-container-id-5 div.sk-parallel-item:last-child::after {align-self: flex-start;width: 50%;}#sk-container-id-5 div.sk-parallel-item:only-child::after {width: 0;}#sk-container-id-5 div.sk-dashed-wrapped {border: 1px dashed gray;margin: 0 0.4em 0.5em 0.4em;box-sizing: border-box;padding-bottom: 0.4em;background-color: white;}#sk-container-id-5 div.sk-label label {font-family: monospace;font-weight: bold;display: inline-block;line-height: 1.2em;}#sk-container-id-5 div.sk-label-container {text-align: center;}#sk-container-id-5 div.sk-container {/* jupyter's `normalize.less` sets `[hidden] { display: none; }` but bootstrap.min.css set `[hidden] { display: none !important; }` so we also need the `!important` here to be able to override the default hidden behavior on the sphinx rendered scikit-learn.org. See: https://github.com/scikit-learn/scikit-learn/issues/21755 */display: inline-block !important;position: relative;}#sk-container-id-5 div.sk-text-repr-fallback {display: none;}</style><div id=\"sk-container-id-5\" class=\"sk-top-container\"><div class=\"sk-text-repr-fallback\"><pre>Ridge(alpha=162.97508346206436)</pre><b>In a Jupyter environment, please rerun this cell to show the HTML representation or trust the notebook. <br />On GitHub, the HTML representation is unable to render, please try loading this page with nbviewer.org.</b></div><div class=\"sk-container\" hidden><div class=\"sk-item\"><div class=\"sk-estimator sk-toggleable\"><input class=\"sk-toggleable__control sk-hidden--visually\" id=\"sk-estimator-id-5\" type=\"checkbox\" checked><label for=\"sk-estimator-id-5\" class=\"sk-toggleable__label sk-toggleable__label-arrow\">Ridge</label><div class=\"sk-toggleable__content\"><pre>Ridge(alpha=162.97508346206436)</pre></div></div></div></div></div>"
      ],
      "text/plain": [
       "Ridge(alpha=162.97508346206436)"
      ]
     },
     "execution_count": 94,
     "metadata": {},
     "output_type": "execute_result"
    }
   ],
   "source": [
    " opt_ridge.fit(X, y)"
   ]
  },
  {
   "cell_type": "code",
   "execution_count": 95,
   "id": "24d63321",
   "metadata": {},
   "outputs": [
    {
     "data": {
      "text/plain": [
       "Hits            1.926430\n",
       "HmRun           2.195690\n",
       "Runs           -1.635374\n",
       "RBI            -1.188258\n",
       "Walks           4.335115\n",
       "Years           3.610210\n",
       "CAtBat         -0.358895\n",
       "CHits           0.763328\n",
       "CHmRun         -0.205202\n",
       "CRuns           1.161654\n",
       "CRBI            0.846042\n",
       "CWalks         -0.470202\n",
       "PutOuts         0.261951\n",
       "Assists         0.298706\n",
       "Errors         -4.624425\n",
       "League_N       11.776482\n",
       "Division_W    -36.026199\n",
       "NewLeague_N     4.886124\n",
       "dtype: float64"
      ]
     },
     "execution_count": 95,
     "metadata": {},
     "output_type": "execute_result"
    }
   ],
   "source": [
    " pd.Series(opt_ridge.coef_, index=X.columns)"
   ]
  },
  {
   "cell_type": "markdown",
   "id": "6aa980ae",
   "metadata": {},
   "source": [
    "# Lasso Regression"
   ]
  },
  {
   "cell_type": "code",
   "execution_count": 96,
   "id": "2e9105fa",
   "metadata": {},
   "outputs": [],
   "source": [
    " lasso = Lasso(max_iter=100000)"
   ]
  },
  {
   "cell_type": "code",
   "execution_count": 97,
   "id": "de462352",
   "metadata": {},
   "outputs": [],
   "source": [
    " coefs = []"
   ]
  },
  {
   "cell_type": "code",
   "execution_count": 98,
   "id": "1bbe6066",
   "metadata": {},
   "outputs": [],
   "source": [
    " scaler = StandardScaler()"
   ]
  },
  {
   "cell_type": "code",
   "execution_count": 102,
   "id": "c8ccb0cd",
   "metadata": {},
   "outputs": [],
   "source": [
    " for a in alphas: \n",
    "    lasso.set_params(alpha=a) \n",
    "    lasso.fit(scaler.fit_transform(X_train), y_train) \n",
    "    coefs.append(lasso.coef_)\n"
   ]
  },
  {
   "cell_type": "code",
   "execution_count": 103,
   "id": "cd4342c7",
   "metadata": {},
   "outputs": [
    {
     "data": {
      "image/png": "[encoded data removed]",
      "text/plain": [
       "<Figure size 640x480 with 1 Axes>"
      ]
     },
     "metadata": {},
     "output_type": "display_data"
    }
   ],
   "source": [
    "ax = plt.gca()"
   ]
  },
  {
   "cell_type": "code",
   "execution_count": 108,
   "id": "8c76f596",
   "metadata": {},
   "outputs": [
    {
     "data": {
      "image/png": "[encoded data removed]",
      "text/plain": [
       "<Figure size 640x480 with 1 Axes>"
      ]
     },
     "metadata": {},
     "output_type": "display_data"
    }
   ],
   "source": [
    "ax = plt.gca()\n",
    "ax.plot(alphas*2, coefs) \n",
    "ax.set_xscale('log') \n",
    "plt.axis('tight') \n",
    "plt.xlabel('Lambda') \n",
    "plt.ylabel('Coefficients') \n",
    "plt.title('Lasso coefficients as a function of lambda(alpha)'); \n",
    "plt.show()\n"
   ]
  },
  {
   "cell_type": "markdown",
   "id": "1739665c",
   "metadata": {},
   "source": [
    "## LassoCV – cv =10"
   ]
  },
  {
   "cell_type": "code",
   "execution_count": 109,
   "id": "e1d5cf96",
   "metadata": {},
   "outputs": [],
   "source": [
    " lassocv = LassoCV(alphas=None, cv=10, max_iter=100000)"
   ]
  },
  {
   "cell_type": "code",
   "execution_count": 110,
   "id": "dc4cd5f7",
   "metadata": {},
   "outputs": [
    {
     "data": {
      "text/html": [
       "<style>#sk-container-id-6 {color: black;}#sk-container-id-6 pre{padding: 0;}#sk-container-id-6 div.sk-toggleable {background-color: white;}#sk-container-id-6 label.sk-toggleable__label {cursor: pointer;display: block;width: 100%;margin-bottom: 0;padding: 0.3em;box-sizing: border-box;text-align: center;}#sk-container-id-6 label.sk-toggleable__label-arrow:before {content: \"▸\";float: left;margin-right: 0.25em;color: #696969;}#sk-container-id-6 label.sk-toggleable__label-arrow:hover:before {color: black;}#sk-container-id-6 div.sk-estimator:hover label.sk-toggleable__label-arrow:before {color: black;}#sk-container-id-6 div.sk-toggleable__content {max-height: 0;max-width: 0;overflow: hidden;text-align: left;background-color: #f0f8ff;}#sk-container-id-6 div.sk-toggleable__content pre {margin: 0.2em;color: black;border-radius: 0.25em;background-color: #f0f8ff;}#sk-container-id-6 input.sk-toggleable__control:checked~div.sk-toggleable__content {max-height: 200px;max-width: 100%;overflow: auto;}#sk-container-id-6 input.sk-toggleable__control:checked~label.sk-toggleable__label-arrow:before {content: \"▾\";}#sk-container-id-6 div.sk-estimator input.sk-toggleable__control:checked~label.sk-toggleable__label {background-color: #d4ebff;}#sk-container-id-6 div.sk-label input.sk-toggleable__control:checked~label.sk-toggleable__label {background-color: #d4ebff;}#sk-container-id-6 input.sk-hidden--visually {border: 0;clip: rect(1px 1px 1px 1px);clip: rect(1px, 1px, 1px, 1px);height: 1px;margin: -1px;overflow: hidden;padding: 0;position: absolute;width: 1px;}#sk-container-id-6 div.sk-estimator {font-family: monospace;background-color: #f0f8ff;border: 1px dotted black;border-radius: 0.25em;box-sizing: border-box;margin-bottom: 0.5em;}#sk-container-id-6 div.sk-estimator:hover {background-color: #d4ebff;}#sk-container-id-6 div.sk-parallel-item::after {content: \"\";width: 100%;border-bottom: 1px solid gray;flex-grow: 1;}#sk-container-id-6 div.sk-label:hover label.sk-toggleable__label {background-color: #d4ebff;}#sk-container-id-6 div.sk-serial::before {content: \"\";position: absolute;border-left: 1px solid gray;box-sizing: border-box;top: 0;bottom: 0;left: 50%;z-index: 0;}#sk-container-id-6 div.sk-serial {display: flex;flex-direction: column;align-items: center;background-color: white;padding-right: 0.2em;padding-left: 0.2em;position: relative;}#sk-container-id-6 div.sk-item {position: relative;z-index: 1;}#sk-container-id-6 div.sk-parallel {display: flex;align-items: stretch;justify-content: center;background-color: white;position: relative;}#sk-container-id-6 div.sk-item::before, #sk-container-id-6 div.sk-parallel-item::before {content: \"\";position: absolute;border-left: 1px solid gray;box-sizing: border-box;top: 0;bottom: 0;left: 50%;z-index: -1;}#sk-container-id-6 div.sk-parallel-item {display: flex;flex-direction: column;z-index: 1;position: relative;background-color: white;}#sk-container-id-6 div.sk-parallel-item:first-child::after {align-self: flex-end;width: 50%;}#sk-container-id-6 div.sk-parallel-item:last-child::after {align-self: flex-start;width: 50%;}#sk-container-id-6 div.sk-parallel-item:only-child::after {width: 0;}#sk-container-id-6 div.sk-dashed-wrapped {border: 1px dashed gray;margin: 0 0.4em 0.5em 0.4em;box-sizing: border-box;padding-bottom: 0.4em;background-color: white;}#sk-container-id-6 div.sk-label label {font-family: monospace;font-weight: bold;display: inline-block;line-height: 1.2em;}#sk-container-id-6 div.sk-label-container {text-align: center;}#sk-container-id-6 div.sk-container {/* jupyter's `normalize.less` sets `[hidden] { display: none; }` but bootstrap.min.css set `[hidden] { display: none !important; }` so we also need the `!important` here to be able to override the default hidden behavior on the sphinx rendered scikit-learn.org. See: https://github.com/scikit-learn/scikit-learn/issues/21755 */display: inline-block !important;position: relative;}#sk-container-id-6 div.sk-text-repr-fallback {display: none;}</style><div id=\"sk-container-id-6\" class=\"sk-top-container\"><div class=\"sk-text-repr-fallback\"><pre>LassoCV(cv=10, max_iter=100000)</pre><b>In a Jupyter environment, please rerun this cell to show the HTML representation or trust the notebook. <br />On GitHub, the HTML representation is unable to render, please try loading this page with nbviewer.org.</b></div><div class=\"sk-container\" hidden><div class=\"sk-item\"><div class=\"sk-estimator sk-toggleable\"><input class=\"sk-toggleable__control sk-hidden--visually\" id=\"sk-estimator-id-6\" type=\"checkbox\" checked><label for=\"sk-estimator-id-6\" class=\"sk-toggleable__label sk-toggleable__label-arrow\">LassoCV</label><div class=\"sk-toggleable__content\"><pre>LassoCV(cv=10, max_iter=100000)</pre></div></div></div></div></div>"
      ],
      "text/plain": [
       "LassoCV(cv=10, max_iter=100000)"
      ]
     },
     "execution_count": 110,
     "metadata": {},
     "output_type": "execute_result"
    }
   ],
   "source": [
    " lassocv.fit(scaler.fit_transform(X_train), y_train)"
   ]
  },
  {
   "cell_type": "code",
   "execution_count": 111,
   "id": "d83b507d",
   "metadata": {},
   "outputs": [
    {
     "data": {
      "text/plain": [
       "27.50328326187841"
      ]
     },
     "execution_count": 111,
     "metadata": {},
     "output_type": "execute_result"
    }
   ],
   "source": [
    " lassocv.alpha_"
   ]
  },
  {
   "cell_type": "markdown",
   "id": "5c0b6e75",
   "metadata": {},
   "source": [
    "## Optimal Lasso"
   ]
  },
  {
   "cell_type": "code",
   "execution_count": 112,
   "id": "a5124dc4",
   "metadata": {},
   "outputs": [
    {
     "data": {
      "text/html": [
       "<style>#sk-container-id-7 {color: black;}#sk-container-id-7 pre{padding: 0;}#sk-container-id-7 div.sk-toggleable {background-color: white;}#sk-container-id-7 label.sk-toggleable__label {cursor: pointer;display: block;width: 100%;margin-bottom: 0;padding: 0.3em;box-sizing: border-box;text-align: center;}#sk-container-id-7 label.sk-toggleable__label-arrow:before {content: \"▸\";float: left;margin-right: 0.25em;color: #696969;}#sk-container-id-7 label.sk-toggleable__label-arrow:hover:before {color: black;}#sk-container-id-7 div.sk-estimator:hover label.sk-toggleable__label-arrow:before {color: black;}#sk-container-id-7 div.sk-toggleable__content {max-height: 0;max-width: 0;overflow: hidden;text-align: left;background-color: #f0f8ff;}#sk-container-id-7 div.sk-toggleable__content pre {margin: 0.2em;color: black;border-radius: 0.25em;background-color: #f0f8ff;}#sk-container-id-7 input.sk-toggleable__control:checked~div.sk-toggleable__content {max-height: 200px;max-width: 100%;overflow: auto;}#sk-container-id-7 input.sk-toggleable__control:checked~label.sk-toggleable__label-arrow:before {content: \"▾\";}#sk-container-id-7 div.sk-estimator input.sk-toggleable__control:checked~label.sk-toggleable__label {background-color: #d4ebff;}#sk-container-id-7 div.sk-label input.sk-toggleable__control:checked~label.sk-toggleable__label {background-color: #d4ebff;}#sk-container-id-7 input.sk-hidden--visually {border: 0;clip: rect(1px 1px 1px 1px);clip: rect(1px, 1px, 1px, 1px);height: 1px;margin: -1px;overflow: hidden;padding: 0;position: absolute;width: 1px;}#sk-container-id-7 div.sk-estimator {font-family: monospace;background-color: #f0f8ff;border: 1px dotted black;border-radius: 0.25em;box-sizing: border-box;margin-bottom: 0.5em;}#sk-container-id-7 div.sk-estimator:hover {background-color: #d4ebff;}#sk-container-id-7 div.sk-parallel-item::after {content: \"\";width: 100%;border-bottom: 1px solid gray;flex-grow: 1;}#sk-container-id-7 div.sk-label:hover label.sk-toggleable__label {background-color: #d4ebff;}#sk-container-id-7 div.sk-serial::before {content: \"\";position: absolute;border-left: 1px solid gray;box-sizing: border-box;top: 0;bottom: 0;left: 50%;z-index: 0;}#sk-container-id-7 div.sk-serial {display: flex;flex-direction: column;align-items: center;background-color: white;padding-right: 0.2em;padding-left: 0.2em;position: relative;}#sk-container-id-7 div.sk-item {position: relative;z-index: 1;}#sk-container-id-7 div.sk-parallel {display: flex;align-items: stretch;justify-content: center;background-color: white;position: relative;}#sk-container-id-7 div.sk-item::before, #sk-container-id-7 div.sk-parallel-item::before {content: \"\";position: absolute;border-left: 1px solid gray;box-sizing: border-box;top: 0;bottom: 0;left: 50%;z-index: -1;}#sk-container-id-7 div.sk-parallel-item {display: flex;flex-direction: column;z-index: 1;position: relative;background-color: white;}#sk-container-id-7 div.sk-parallel-item:first-child::after {align-self: flex-end;width: 50%;}#sk-container-id-7 div.sk-parallel-item:last-child::after {align-self: flex-start;width: 50%;}#sk-container-id-7 div.sk-parallel-item:only-child::after {width: 0;}#sk-container-id-7 div.sk-dashed-wrapped {border: 1px dashed gray;margin: 0 0.4em 0.5em 0.4em;box-sizing: border-box;padding-bottom: 0.4em;background-color: white;}#sk-container-id-7 div.sk-label label {font-family: monospace;font-weight: bold;display: inline-block;line-height: 1.2em;}#sk-container-id-7 div.sk-label-container {text-align: center;}#sk-container-id-7 div.sk-container {/* jupyter's `normalize.less` sets `[hidden] { display: none; }` but bootstrap.min.css set `[hidden] { display: none !important; }` so we also need the `!important` here to be able to override the default hidden behavior on the sphinx rendered scikit-learn.org. See: https://github.com/scikit-learn/scikit-learn/issues/21755 */display: inline-block !important;position: relative;}#sk-container-id-7 div.sk-text-repr-fallback {display: none;}</style><div id=\"sk-container-id-7\" class=\"sk-top-container\"><div class=\"sk-text-repr-fallback\"><pre>Lasso(alpha=27.50328326187841, max_iter=100000)</pre><b>In a Jupyter environment, please rerun this cell to show the HTML representation or trust the notebook. <br />On GitHub, the HTML representation is unable to render, please try loading this page with nbviewer.org.</b></div><div class=\"sk-container\" hidden><div class=\"sk-item\"><div class=\"sk-estimator sk-toggleable\"><input class=\"sk-toggleable__control sk-hidden--visually\" id=\"sk-estimator-id-7\" type=\"checkbox\" checked><label for=\"sk-estimator-id-7\" class=\"sk-toggleable__label sk-toggleable__label-arrow\">Lasso</label><div class=\"sk-toggleable__content\"><pre>Lasso(alpha=27.50328326187841, max_iter=100000)</pre></div></div></div></div></div>"
      ],
      "text/plain": [
       "Lasso(alpha=27.50328326187841, max_iter=100000)"
      ]
     },
     "execution_count": 112,
     "metadata": {},
     "output_type": "execute_result"
    }
   ],
   "source": [
    " lasso.set_params(alpha=lassocv.alpha_)"
   ]
  },
  {
   "cell_type": "code",
   "execution_count": 113,
   "id": "65ef1032",
   "metadata": {},
   "outputs": [
    {
     "data": {
      "text/html": [
       "<style>#sk-container-id-8 {color: black;}#sk-container-id-8 pre{padding: 0;}#sk-container-id-8 div.sk-toggleable {background-color: white;}#sk-container-id-8 label.sk-toggleable__label {cursor: pointer;display: block;width: 100%;margin-bottom: 0;padding: 0.3em;box-sizing: border-box;text-align: center;}#sk-container-id-8 label.sk-toggleable__label-arrow:before {content: \"▸\";float: left;margin-right: 0.25em;color: #696969;}#sk-container-id-8 label.sk-toggleable__label-arrow:hover:before {color: black;}#sk-container-id-8 div.sk-estimator:hover label.sk-toggleable__label-arrow:before {color: black;}#sk-container-id-8 div.sk-toggleable__content {max-height: 0;max-width: 0;overflow: hidden;text-align: left;background-color: #f0f8ff;}#sk-container-id-8 div.sk-toggleable__content pre {margin: 0.2em;color: black;border-radius: 0.25em;background-color: #f0f8ff;}#sk-container-id-8 input.sk-toggleable__control:checked~div.sk-toggleable__content {max-height: 200px;max-width: 100%;overflow: auto;}#sk-container-id-8 input.sk-toggleable__control:checked~label.sk-toggleable__label-arrow:before {content: \"▾\";}#sk-container-id-8 div.sk-estimator input.sk-toggleable__control:checked~label.sk-toggleable__label {background-color: #d4ebff;}#sk-container-id-8 div.sk-label input.sk-toggleable__control:checked~label.sk-toggleable__label {background-color: #d4ebff;}#sk-container-id-8 input.sk-hidden--visually {border: 0;clip: rect(1px 1px 1px 1px);clip: rect(1px, 1px, 1px, 1px);height: 1px;margin: -1px;overflow: hidden;padding: 0;position: absolute;width: 1px;}#sk-container-id-8 div.sk-estimator {font-family: monospace;background-color: #f0f8ff;border: 1px dotted black;border-radius: 0.25em;box-sizing: border-box;margin-bottom: 0.5em;}#sk-container-id-8 div.sk-estimator:hover {background-color: #d4ebff;}#sk-container-id-8 div.sk-parallel-item::after {content: \"\";width: 100%;border-bottom: 1px solid gray;flex-grow: 1;}#sk-container-id-8 div.sk-label:hover label.sk-toggleable__label {background-color: #d4ebff;}#sk-container-id-8 div.sk-serial::before {content: \"\";position: absolute;border-left: 1px solid gray;box-sizing: border-box;top: 0;bottom: 0;left: 50%;z-index: 0;}#sk-container-id-8 div.sk-serial {display: flex;flex-direction: column;align-items: center;background-color: white;padding-right: 0.2em;padding-left: 0.2em;position: relative;}#sk-container-id-8 div.sk-item {position: relative;z-index: 1;}#sk-container-id-8 div.sk-parallel {display: flex;align-items: stretch;justify-content: center;background-color: white;position: relative;}#sk-container-id-8 div.sk-item::before, #sk-container-id-8 div.sk-parallel-item::before {content: \"\";position: absolute;border-left: 1px solid gray;box-sizing: border-box;top: 0;bottom: 0;left: 50%;z-index: -1;}#sk-container-id-8 div.sk-parallel-item {display: flex;flex-direction: column;z-index: 1;position: relative;background-color: white;}#sk-container-id-8 div.sk-parallel-item:first-child::after {align-self: flex-end;width: 50%;}#sk-container-id-8 div.sk-parallel-item:last-child::after {align-self: flex-start;width: 50%;}#sk-container-id-8 div.sk-parallel-item:only-child::after {width: 0;}#sk-container-id-8 div.sk-dashed-wrapped {border: 1px dashed gray;margin: 0 0.4em 0.5em 0.4em;box-sizing: border-box;padding-bottom: 0.4em;background-color: white;}#sk-container-id-8 div.sk-label label {font-family: monospace;font-weight: bold;display: inline-block;line-height: 1.2em;}#sk-container-id-8 div.sk-label-container {text-align: center;}#sk-container-id-8 div.sk-container {/* jupyter's `normalize.less` sets `[hidden] { display: none; }` but bootstrap.min.css set `[hidden] { display: none !important; }` so we also need the `!important` here to be able to override the default hidden behavior on the sphinx rendered scikit-learn.org. See: https://github.com/scikit-learn/scikit-learn/issues/21755 */display: inline-block !important;position: relative;}#sk-container-id-8 div.sk-text-repr-fallback {display: none;}</style><div id=\"sk-container-id-8\" class=\"sk-top-container\"><div class=\"sk-text-repr-fallback\"><pre>Lasso(alpha=27.50328326187841, max_iter=100000)</pre><b>In a Jupyter environment, please rerun this cell to show the HTML representation or trust the notebook. <br />On GitHub, the HTML representation is unable to render, please try loading this page with nbviewer.org.</b></div><div class=\"sk-container\" hidden><div class=\"sk-item\"><div class=\"sk-estimator sk-toggleable\"><input class=\"sk-toggleable__control sk-hidden--visually\" id=\"sk-estimator-id-8\" type=\"checkbox\" checked><label for=\"sk-estimator-id-8\" class=\"sk-toggleable__label sk-toggleable__label-arrow\">Lasso</label><div class=\"sk-toggleable__content\"><pre>Lasso(alpha=27.50328326187841, max_iter=100000)</pre></div></div></div></div></div>"
      ],
      "text/plain": [
       "Lasso(alpha=27.50328326187841, max_iter=100000)"
      ]
     },
     "execution_count": 113,
     "metadata": {},
     "output_type": "execute_result"
    }
   ],
   "source": [
    " lasso.fit(scaler.fit_transform(X_train), y_train)"
   ]
  },
  {
   "cell_type": "code",
   "execution_count": 114,
   "id": "027408c2",
   "metadata": {},
   "outputs": [
    {
     "data": {
      "text/plain": [
       "106183.67168489807"
      ]
     },
     "execution_count": 114,
     "metadata": {},
     "output_type": "execute_result"
    }
   ],
   "source": [
    " mean_squared_error(y_test, lasso.predict(scaler.fit_transform(X_test)))"
   ]
  },
  {
   "cell_type": "code",
   "execution_count": 115,
   "id": "f876207e",
   "metadata": {},
   "outputs": [
    {
     "data": {
      "text/plain": [
       "Hits            50.246042\n",
       "HmRun            0.000000\n",
       "Runs             0.000000\n",
       "RBI              0.000000\n",
       "Walks           66.794635\n",
       "Years            0.000000\n",
       "CAtBat           0.000000\n",
       "CHits            0.000000\n",
       "CHmRun          19.439743\n",
       "CRuns            0.000000\n",
       "CRBI           181.337857\n",
       "CWalks           0.000000\n",
       "PutOuts        110.307285\n",
       "Assists         -0.000000\n",
       "Errors          -0.000000\n",
       "League_N         0.000000\n",
       "Division_W     -44.530905\n",
       "NewLeague_N      0.000000\n",
       "dtype: float64"
      ]
     },
     "execution_count": 115,
     "metadata": {},
     "output_type": "execute_result"
    }
   ],
   "source": [
    " pd.Series(lasso.coef_, index=X.columns)"
   ]
  },
  {
   "cell_type": "markdown",
   "id": "463d39d2",
   "metadata": {},
   "source": [
    "## Coefficients != 0"
   ]
  },
  {
   "cell_type": "code",
   "execution_count": 116,
   "id": "9fc4b83e",
   "metadata": {},
   "outputs": [
    {
     "data": {
      "text/plain": [
       "Hits           50.246042\n",
       "Walks          66.794635\n",
       "CHmRun         19.439743\n",
       "CRBI          181.337857\n",
       "PutOuts       110.307285\n",
       "Division_W    -44.530905\n",
       "dtype: float64"
      ]
     },
     "execution_count": 116,
     "metadata": {},
     "output_type": "execute_result"
    }
   ],
   "source": [
    " pd.Series(lasso.coef_[lasso.coef_ !=0], index=X.columns[lasso.coef_ !=0])"
   ]
  },
  {
   "cell_type": "markdown",
   "id": "5e37020b",
   "metadata": {},
   "source": [
    "# Principal Component Analysis\n"
   ]
  },
  {
   "cell_type": "markdown",
   "id": "9cfc453e",
   "metadata": {},
   "source": [
    "## Import Libraries"
   ]
  },
  {
   "cell_type": "code",
   "execution_count": 117,
   "id": "e7df40ad",
   "metadata": {},
   "outputs": [],
   "source": [
    "from sklearn.preprocessing import scale"
   ]
  },
  {
   "cell_type": "code",
   "execution_count": 118,
   "id": "1344a84a",
   "metadata": {},
   "outputs": [],
   "source": [
    " from sklearn.decomposition import PCA"
   ]
  },
  {
   "cell_type": "code",
   "execution_count": 119,
   "id": "7967bcef",
   "metadata": {},
   "outputs": [],
   "source": [
    " from sklearn.model_selection import KFold, cross_val_score"
   ]
  },
  {
   "cell_type": "code",
   "execution_count": 120,
   "id": "a41b4129",
   "metadata": {},
   "outputs": [],
   "source": [
    " from sklearn.linear_model import LinearRegression"
   ]
  },
  {
   "cell_type": "code",
   "execution_count": 121,
   "id": "681e0804",
   "metadata": {},
   "outputs": [],
   "source": [
    " from sklearn.metrics import mean_squared_error"
   ]
  },
  {
   "cell_type": "markdown",
   "id": "3157d4fa",
   "metadata": {},
   "source": [
    "## Principal Components"
   ]
  },
  {
   "cell_type": "code",
   "execution_count": 122,
   "id": "6fc78cd5",
   "metadata": {},
   "outputs": [],
   "source": [
    " pca = PCA()"
   ]
  },
  {
   "cell_type": "code",
   "execution_count": 123,
   "id": "2f3e7824",
   "metadata": {},
   "outputs": [],
   "source": [
    "X_pca_reduced = pca.fit_transform(scale(X))"
   ]
  },
  {
   "cell_type": "code",
   "execution_count": 124,
   "id": "c4ff85d0",
   "metadata": {},
   "outputs": [
    {
     "name": "stdout",
     "output_type": "stream",
     "text": [
      "(18, 18)\n"
     ]
    }
   ],
   "source": [
    " print(pca.components_.shape)"
   ]
  },
  {
   "cell_type": "code",
   "execution_count": 125,
   "id": "76861996",
   "metadata": {},
   "outputs": [
    {
     "data": {
      "text/html": [
       "<div>\n",
       "<style scoped>\n",
       "    .dataframe tbody tr th:only-of-type {\n",
       "        vertical-align: middle;\n",
       "    }\n",
       "\n",
       "    .dataframe tbody tr th {\n",
       "        vertical-align: top;\n",
       "    }\n",
       "\n",
       "    .dataframe thead th {\n",
       "        text-align: right;\n",
       "    }\n",
       "</style>\n",
       "<table border=\"1\" class=\"dataframe\">\n",
       "  <thead>\n",
       "    <tr style=\"text-align: right;\">\n",
       "      <th></th>\n",
       "      <th>0</th>\n",
       "      <th>1</th>\n",
       "      <th>2</th>\n",
       "      <th>3</th>\n",
       "      <th>4</th>\n",
       "    </tr>\n",
       "  </thead>\n",
       "  <tbody>\n",
       "    <tr>\n",
       "      <th>0</th>\n",
       "      <td>0.161710</td>\n",
       "      <td>-0.423509</td>\n",
       "      <td>0.109637</td>\n",
       "      <td>0.028159</td>\n",
       "      <td>-0.002138</td>\n",
       "    </tr>\n",
       "    <tr>\n",
       "      <th>1</th>\n",
       "      <td>0.188275</td>\n",
       "      <td>-0.311492</td>\n",
       "      <td>-0.179181</td>\n",
       "      <td>-0.228319</td>\n",
       "      <td>0.085590</td>\n",
       "    </tr>\n",
       "    <tr>\n",
       "      <th>2</th>\n",
       "      <td>0.165986</td>\n",
       "      <td>-0.436438</td>\n",
       "      <td>0.022885</td>\n",
       "      <td>-0.039497</td>\n",
       "      <td>-0.034708</td>\n",
       "    </tr>\n",
       "    <tr>\n",
       "      <th>3</th>\n",
       "      <td>0.210373</td>\n",
       "      <td>-0.384999</td>\n",
       "      <td>-0.032467</td>\n",
       "      <td>-0.128594</td>\n",
       "      <td>0.031579</td>\n",
       "    </tr>\n",
       "    <tr>\n",
       "      <th>4</th>\n",
       "      <td>0.191272</td>\n",
       "      <td>-0.285859</td>\n",
       "      <td>0.079043</td>\n",
       "      <td>-0.120264</td>\n",
       "      <td>-0.026362</td>\n",
       "    </tr>\n",
       "  </tbody>\n",
       "</table>\n",
       "</div>"
      ],
      "text/plain": [
       "          0         1         2         3         4\n",
       "0  0.161710 -0.423509  0.109637  0.028159 -0.002138\n",
       "1  0.188275 -0.311492 -0.179181 -0.228319  0.085590\n",
       "2  0.165986 -0.436438  0.022885 -0.039497 -0.034708\n",
       "3  0.210373 -0.384999 -0.032467 -0.128594  0.031579\n",
       "4  0.191272 -0.285859  0.079043 -0.120264 -0.026362"
      ]
     },
     "execution_count": 125,
     "metadata": {},
     "output_type": "execute_result"
    }
   ],
   "source": [
    "pd.DataFrame(pca.components_.T).loc[:4,:4]"
   ]
  },
  {
   "cell_type": "markdown",
   "id": "e6cb7d27",
   "metadata": {},
   "source": [
    "## Principal Components Variance Explained"
   ]
  },
  {
   "cell_type": "code",
   "execution_count": 126,
   "id": "70bbd21c",
   "metadata": {},
   "outputs": [
    {
     "data": {
      "text/plain": [
       "array([ 39.15,  58.68,  69.84,  78.48,  84.02,  88.58,  92.37,  94.97,\n",
       "        96.36,  97.36,  98.12,  98.82,  99.35,  99.68,  99.89,  99.97,\n",
       "       100.  , 100.01])"
      ]
     },
     "execution_count": 126,
     "metadata": {},
     "output_type": "execute_result"
    }
   ],
   "source": [
    " np.cumsum(np.round(pca.explained_variance_ratio_, decimals=4)*100)"
   ]
  },
  {
   "cell_type": "markdown",
   "id": "4828cbb4",
   "metadata": {},
   "source": [
    "## PCA Training Data"
   ]
  },
  {
   "cell_type": "code",
   "execution_count": 127,
   "id": "576f1b04",
   "metadata": {},
   "outputs": [],
   "source": [
    " pca_t = PCA() "
   ]
  },
  {
   "cell_type": "code",
   "execution_count": 128,
   "id": "d52721dc",
   "metadata": {},
   "outputs": [],
   "source": [
    "X_train_reduced_pca = pca_t.fit_transform(scale(X_train))"
   ]
  },
  {
   "cell_type": "code",
   "execution_count": 129,
   "id": "d71537a1",
   "metadata": {},
   "outputs": [],
   "source": [
    " n = len(X_train_reduced_pca) "
   ]
  },
  {
   "cell_type": "code",
   "execution_count": 130,
   "id": "58825a80",
   "metadata": {},
   "outputs": [],
   "source": [
    "kfold10 = KFold(n_splits=10)"
   ]
  },
  {
   "cell_type": "code",
   "execution_count": 131,
   "id": "6c8c51c1",
   "metadata": {},
   "outputs": [],
   "source": [
    " lm_regr = LinearRegression()"
   ]
  },
  {
   "cell_type": "code",
   "execution_count": 132,
   "id": "45d378dc",
   "metadata": {},
   "outputs": [],
   "source": [
    " mse = [] "
   ]
  },
  {
   "cell_type": "code",
   "execution_count": 133,
   "id": "ee73e391",
   "metadata": {},
   "outputs": [],
   "source": [
    " tr_score = -1*cross_val_score(lm_regr, np.ones((n,1)),y_train, cv=kfold10, \n",
    "scoring='neg_mean_squared_error').mean()"
   ]
  },
  {
   "cell_type": "code",
   "execution_count": 134,
   "id": "34eca8a4",
   "metadata": {},
   "outputs": [],
   "source": [
    " mse.append(tr_score)"
   ]
  },
  {
   "cell_type": "code",
   "execution_count": 136,
   "id": "126ca78c",
   "metadata": {},
   "outputs": [],
   "source": [
    " for i in np.arange(1, 20): \n",
    "    tr_score = -1*cross_val_score(lm_regr, X_train_reduced_pca[:,:i], y_train, cv=kfold10, scoring='neg_mean_squared_error').mean() \n",
    "    mse.append(tr_score)"
   ]
  },
  {
   "cell_type": "markdown",
   "id": "07bbe189",
   "metadata": {},
   "source": [
    "## Plot MSE vs No of Principal Components"
   ]
  },
  {
   "cell_type": "code",
   "execution_count": 137,
   "id": "3ead518c",
   "metadata": {},
   "outputs": [
    {
     "data": {
      "text/plain": [
       "[<matplotlib.lines.Line2D at 0x1a1adc69e90>]"
      ]
     },
     "execution_count": 137,
     "metadata": {},
     "output_type": "execute_result"
    },
    {
     "data": {
      "image/png": "[encoded data removed]",
      "text/plain": [
       "<Figure size 640x480 with 1 Axes>"
      ]
     },
     "metadata": {},
     "output_type": "display_data"
    }
   ],
   "source": [
    "plt.plot(mse, '-v')"
   ]
  },
  {
   "cell_type": "code",
   "execution_count": 140,
   "id": "a4d6167a",
   "metadata": {},
   "outputs": [
    {
     "data": {
      "text/plain": [
       "[]"
      ]
     },
     "execution_count": 140,
     "metadata": {},
     "output_type": "execute_result"
    },
    {
     "data": {
      "image/png": "[encoded data removed]",
      "text/plain": [
       "<Figure size 640x480 with 1 Axes>"
      ]
     },
     "metadata": {},
     "output_type": "display_data"
    }
   ],
   "source": [
    "plt.plot(mse, '-v')\n",
    "plt.xlabel('Number of principal components in regression') \n",
    "plt.ylabel('MSE') \n",
    "plt.title('Player Salary') \n",
    "plt.xlim(xmin=-1); \n",
    "plt.plot()\n"
   ]
  },
  {
   "cell_type": "markdown",
   "id": "741766d8",
   "metadata": {},
   "source": [
    "## MSE for each component"
   ]
  },
  {
   "cell_type": "code",
   "execution_count": 141,
   "id": "9e97bca9",
   "metadata": {},
   "outputs": [],
   "source": [
    " mse_each_comp=pd.Series(np.array(mse).flatten(), index = np.arange(1,21))"
   ]
  },
  {
   "cell_type": "code",
   "execution_count": 142,
   "id": "3fab6bad",
   "metadata": {},
   "outputs": [
    {
     "data": {
      "text/plain": [
       "1     235406.619100\n",
       "2     149161.629821\n",
       "3     139296.902000\n",
       "4     139137.587034\n",
       "5     140064.826261\n",
       "6     132945.585602\n",
       "7     127888.187692\n",
       "8     130061.232677\n",
       "9     134254.365221\n",
       "10    137665.179526\n",
       "11    147152.378939\n",
       "12    145415.193008\n",
       "13    147634.748709\n",
       "14    149316.329876\n",
       "15    159112.658871\n",
       "16    162072.100734\n",
       "17    166116.846076\n",
       "18    153148.057538\n",
       "19    150609.164991\n",
       "20    150609.164991\n",
       "dtype: float64"
      ]
     },
     "execution_count": 142,
     "metadata": {},
     "output_type": "execute_result"
    }
   ],
   "source": [
    " mse_each_comp"
   ]
  },
  {
   "cell_type": "markdown",
   "id": "24d768d3",
   "metadata": {},
   "source": [
    "## Minimum MSE"
   ]
  },
  {
   "cell_type": "code",
   "execution_count": 143,
   "id": "ec06a10a",
   "metadata": {},
   "outputs": [
    {
     "data": {
      "text/plain": [
       "127888.1876923691"
      ]
     },
     "execution_count": 143,
     "metadata": {},
     "output_type": "execute_result"
    }
   ],
   "source": [
    "np.amin(mse_each_comp)"
   ]
  },
  {
   "cell_type": "markdown",
   "id": "1b0d3914",
   "metadata": {},
   "source": [
    "## Regression Model with Reduced Component"
   ]
  },
  {
   "cell_type": "code",
   "execution_count": 144,
   "id": "cf584db1",
   "metadata": {},
   "outputs": [],
   "source": [
    " X_test_reduced_pca = pca_t.transform(scale(X_test))[:,:7]"
   ]
  },
  {
   "cell_type": "code",
   "execution_count": 145,
   "id": "0b4ebbeb",
   "metadata": {},
   "outputs": [],
   "source": [
    " regr = LinearRegression()"
   ]
  },
  {
   "cell_type": "code",
   "execution_count": 146,
   "id": "da82a99b",
   "metadata": {},
   "outputs": [
    {
     "data": {
      "text/html": [
       "<style>#sk-container-id-9 {color: black;}#sk-container-id-9 pre{padding: 0;}#sk-container-id-9 div.sk-toggleable {background-color: white;}#sk-container-id-9 label.sk-toggleable__label {cursor: pointer;display: block;width: 100%;margin-bottom: 0;padding: 0.3em;box-sizing: border-box;text-align: center;}#sk-container-id-9 label.sk-toggleable__label-arrow:before {content: \"▸\";float: left;margin-right: 0.25em;color: #696969;}#sk-container-id-9 label.sk-toggleable__label-arrow:hover:before {color: black;}#sk-container-id-9 div.sk-estimator:hover label.sk-toggleable__label-arrow:before {color: black;}#sk-container-id-9 div.sk-toggleable__content {max-height: 0;max-width: 0;overflow: hidden;text-align: left;background-color: #f0f8ff;}#sk-container-id-9 div.sk-toggleable__content pre {margin: 0.2em;color: black;border-radius: 0.25em;background-color: #f0f8ff;}#sk-container-id-9 input.sk-toggleable__control:checked~div.sk-toggleable__content {max-height: 200px;max-width: 100%;overflow: auto;}#sk-container-id-9 input.sk-toggleable__control:checked~label.sk-toggleable__label-arrow:before {content: \"▾\";}#sk-container-id-9 div.sk-estimator input.sk-toggleable__control:checked~label.sk-toggleable__label {background-color: #d4ebff;}#sk-container-id-9 div.sk-label input.sk-toggleable__control:checked~label.sk-toggleable__label {background-color: #d4ebff;}#sk-container-id-9 input.sk-hidden--visually {border: 0;clip: rect(1px 1px 1px 1px);clip: rect(1px, 1px, 1px, 1px);height: 1px;margin: -1px;overflow: hidden;padding: 0;position: absolute;width: 1px;}#sk-container-id-9 div.sk-estimator {font-family: monospace;background-color: #f0f8ff;border: 1px dotted black;border-radius: 0.25em;box-sizing: border-box;margin-bottom: 0.5em;}#sk-container-id-9 div.sk-estimator:hover {background-color: #d4ebff;}#sk-container-id-9 div.sk-parallel-item::after {content: \"\";width: 100%;border-bottom: 1px solid gray;flex-grow: 1;}#sk-container-id-9 div.sk-label:hover label.sk-toggleable__label {background-color: #d4ebff;}#sk-container-id-9 div.sk-serial::before {content: \"\";position: absolute;border-left: 1px solid gray;box-sizing: border-box;top: 0;bottom: 0;left: 50%;z-index: 0;}#sk-container-id-9 div.sk-serial {display: flex;flex-direction: column;align-items: center;background-color: white;padding-right: 0.2em;padding-left: 0.2em;position: relative;}#sk-container-id-9 div.sk-item {position: relative;z-index: 1;}#sk-container-id-9 div.sk-parallel {display: flex;align-items: stretch;justify-content: center;background-color: white;position: relative;}#sk-container-id-9 div.sk-item::before, #sk-container-id-9 div.sk-parallel-item::before {content: \"\";position: absolute;border-left: 1px solid gray;box-sizing: border-box;top: 0;bottom: 0;left: 50%;z-index: -1;}#sk-container-id-9 div.sk-parallel-item {display: flex;flex-direction: column;z-index: 1;position: relative;background-color: white;}#sk-container-id-9 div.sk-parallel-item:first-child::after {align-self: flex-end;width: 50%;}#sk-container-id-9 div.sk-parallel-item:last-child::after {align-self: flex-start;width: 50%;}#sk-container-id-9 div.sk-parallel-item:only-child::after {width: 0;}#sk-container-id-9 div.sk-dashed-wrapped {border: 1px dashed gray;margin: 0 0.4em 0.5em 0.4em;box-sizing: border-box;padding-bottom: 0.4em;background-color: white;}#sk-container-id-9 div.sk-label label {font-family: monospace;font-weight: bold;display: inline-block;line-height: 1.2em;}#sk-container-id-9 div.sk-label-container {text-align: center;}#sk-container-id-9 div.sk-container {/* jupyter's `normalize.less` sets `[hidden] { display: none; }` but bootstrap.min.css set `[hidden] { display: none !important; }` so we also need the `!important` here to be able to override the default hidden behavior on the sphinx rendered scikit-learn.org. See: https://github.com/scikit-learn/scikit-learn/issues/21755 */display: inline-block !important;position: relative;}#sk-container-id-9 div.sk-text-repr-fallback {display: none;}</style><div id=\"sk-container-id-9\" class=\"sk-top-container\"><div class=\"sk-text-repr-fallback\"><pre>LinearRegression()</pre><b>In a Jupyter environment, please rerun this cell to show the HTML representation or trust the notebook. <br />On GitHub, the HTML representation is unable to render, please try loading this page with nbviewer.org.</b></div><div class=\"sk-container\" hidden><div class=\"sk-item\"><div class=\"sk-estimator sk-toggleable\"><input class=\"sk-toggleable__control sk-hidden--visually\" id=\"sk-estimator-id-9\" type=\"checkbox\" checked><label for=\"sk-estimator-id-9\" class=\"sk-toggleable__label sk-toggleable__label-arrow\">LinearRegression</label><div class=\"sk-toggleable__content\"><pre>LinearRegression()</pre></div></div></div></div></div>"
      ],
      "text/plain": [
       "LinearRegression()"
      ]
     },
     "execution_count": 146,
     "metadata": {},
     "output_type": "execute_result"
    }
   ],
   "source": [
    "regr.fit(X_train_reduced_pca[:,:7], y_train)"
   ]
  },
  {
   "cell_type": "code",
   "execution_count": 147,
   "id": "d6fbcd88",
   "metadata": {},
   "outputs": [],
   "source": [
    "pred = regr.predict(X_test_reduced_pca)"
   ]
  },
  {
   "cell_type": "code",
   "execution_count": 148,
   "id": "622b3625",
   "metadata": {},
   "outputs": [
    {
     "data": {
      "text/plain": [
       "111367.9363734163"
      ]
     },
     "execution_count": 148,
     "metadata": {},
     "output_type": "execute_result"
    }
   ],
   "source": [
    " mean_squared_error(y_test, pred)"
   ]
  },
  {
   "cell_type": "code",
   "execution_count": 150,
   "id": "bfddd59f",
   "metadata": {},
   "outputs": [
    {
     "data": {
      "text/plain": [
       "array([111.01846813, -55.50200376,  34.11526267, -22.80894684,\n",
       "       -86.3056142 ,  95.38234231, -48.58170014])"
      ]
     },
     "execution_count": 150,
     "metadata": {},
     "output_type": "execute_result"
    }
   ],
   "source": [
    "regr.coef_"
   ]
  },
  {
   "cell_type": "code",
   "execution_count": null,
   "id": "55799e70",
   "metadata": {},
   "outputs": [],
   "source": []
  }
 ],
 "metadata": {
  "kernelspec": {
   "display_name": "Python 3 (ipykernel)",
   "language": "python",
   "name": "python3"
  },
  "language_info": {
   "codemirror_mode": {
    "name": "ipython",
    "version": 3
   },
   "file_extension": ".py",
   "mimetype": "text/x-python",
   "name": "python",
   "nbconvert_exporter": "python",
   "pygments_lexer": "ipython3",
   "version": "3.11.5"
  }
 },
 "nbformat": 4,
 "nbformat_minor": 5
}
